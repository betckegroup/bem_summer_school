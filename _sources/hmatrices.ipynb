{
 "cells": [
  {
   "cell_type": "markdown",
   "metadata": {},
   "source": [
    "# Hierarchical Matrices\n",
    "\n",
    "In this section we will discuss hierarchical matrices (or $\\mathcal{H}$-matrices). These allow the representation of and matrix vector products with the matrix of Green's functions interactions with a complexity of $\\mathcal{O}(N\\log N)$, where $N$ is the number of evaluation points.\n",
    "\n",
    "Another nice feature of $\\mathcal{H}$-matrices is that it is straight forward to design algorithms for an approximate $LU$ decomposition and approximate inverse of these matrices with also near-linear complexity.\n",
    "\n",
    "The disadvantage of $\\mathcal{H}$-matrices is that compared to Fast Multipole or $\\mathcal{H}^2$ matrix techniques they do not have linear complexity (the $\\log$ factor becomes important for very large problems), and they tend to have also in practice larger memory requirements than these techniques.\n",
    "\n",
    "Nevertheless, the algorithmic implementation is very simple and parallelisation is easy. This is why they are still very popular. Moreover, in many practical applications it seems the case that also for oscillatory problems they keep good performance into the medium wavenumber regime (though their asymptotic complexity is not optimal here).\n",
    "\n",
    "In the literature $\\mathcal{H}$-matrix technqiues are also often called ACA methods. The historical reason is that $\\mathcal{H}$-matrices are often implemented using adaptive cross approximation. Nevertheless, this is an inaccurate description as ACA is merely the algorithm that low-rank compresses the blocks in an $\\mathcal{H}$-matrix. Other low-rank compression techniques can equally be applied.\n",
    "\n",
    "In the following we first need to introduce another tree structure, namely block cluster trees. These will then allow us to fully describle $\\mathcal{H}$-matrices."
   ]
  },
  {
   "cell_type": "markdown",
   "metadata": {},
   "source": []
  }
 ],
 "metadata": {
  "language_info": {
   "name": "python"
  },
  "orig_nbformat": 4
 },
 "nbformat": 4,
 "nbformat_minor": 2
}
