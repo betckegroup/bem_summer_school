{
 "cells": [
  {
   "cell_type": "markdown",
   "id": "16797065",
   "metadata": {},
   "source": [
    "# Solving the linear system"
   ]
  },
  {
   "cell_type": "markdown",
   "id": "814f1311",
   "metadata": {},
   "source": [
    "After discretising the integral operator we need to solve the resulting linear sytem of equations. Depending on the size of the system we can use either a direct LU decomposition or use an iterative solver. In the following we will give a few remarks to both types of solvers.\n",
    "\n",
    "As canonical examples we will consider the following two problems.\n",
    "\n",
    "- Solution of the single-layer boundary integral equation discretised as $A_Vx = b$\n",
    "with \n",
    "\n",
    "$$\n",
    "[A_V][i, j] = \\int_{\\tau_i}\\int_{\\tau_j}g(x, y)ds(y)ds(x).\n",
    "$$\n",
    "\n",
    "- Solution of the double-layer boundary integral equation discretised as $A_Kx = b$\n",
    "with\n",
    "\n",
    "$$\n",
    "[A_K][i, j] = \\frac{1}{2}\\int_{\\tau_i\\cap\\tau_j}1ds(x)ds(y) - \\int_{\\tau_i}\\int_{\\tau_j}\\frac{\\partial g(x, y)}{\\partial n(y)}ds(y)ds(x)\n",
    "$$\n",
    "\n",
    "In both cases the trial and test spaces are simply the spaces of piecewise constant functions on each triangle.\n"
   ]
  },
  {
   "cell_type": "markdown",
   "id": "ac8e5e0d",
   "metadata": {},
   "source": [
    "## Setting up the test problems"
   ]
  },
  {
   "cell_type": "markdown",
   "id": "edb15837",
   "metadata": {},
   "source": [
    "We first setup the test problems. We will setup a larger problem for testing iterative solvers and a smaller problem\n",
    "to approximate the eigenvalues and draw them. This ensures that the notebook still runs in reasonable time."
   ]
  },
  {
   "cell_type": "code",
   "execution_count": 1,
   "id": "f8d9d655",
   "metadata": {},
   "outputs": [
    {
     "name": "stderr",
     "output_type": "stream",
     "text": [
      "bempp:HOST:INFO: Created grid with id 678f12e3-e5bf-4d61-8f49-1a7d783f5688. Elements: 32768. Edges: 49152. Vertices: 16386\n",
      "bempp:HOST:INFO: OpenCL CPU Device set to: AMD Ryzen Threadripper 3970X 32-Core Processor \n",
      "/home/betcke/miniconda3/envs/dev/lib/python3.9/site-packages/pyopencl/__init__.py:274: CompilerWarning: Non-empty compiler output encountered. Set the environment variable PYOPENCL_COMPILER_OUTPUT=1 to see more.\n",
      "  warn(\"Non-empty compiler output encountered. Set the \"\n",
      "/home/betcke/miniconda3/envs/dev/lib/python3.9/site-packages/pyopencl/__init__.py:274: CompilerWarning: Non-empty compiler output encountered. Set the environment variable PYOPENCL_COMPILER_OUTPUT=1 to see more.\n",
      "  warn(\"Non-empty compiler output encountered. Set the \"\n",
      "bempp:HOST:INFO: Created grid with id 2a9d198c-fe2a-47db-82be-d8b572d60833. Elements: 512. Edges: 768. Vertices: 258\n"
     ]
    }
   ],
   "source": [
    "import bempp.api\n",
    "\n",
    "bempp.api.enable_console_logging()\n",
    "grid_large = bempp.api.shapes.regular_sphere(6)\n",
    "space_large = bempp.api.function_space(grid_large, \"DP\", 0)\n",
    "\n",
    "ident_large = bempp.api.operators.boundary.sparse.identity(space_large, space_large, space_large)\n",
    "op_v_large = bempp.api.operators.boundary.laplace.single_layer(space_large, space_large, space_large)\n",
    "op_k_large = .5 * ident_large - bempp.api.operators.boundary.laplace.double_layer(space_large, space_large, space_large)\n",
    "\n",
    "A_v_large = op_v_large.weak_form().A\n",
    "A_k_large = op_k_large.weak_form().A\n",
    "M_large = ident_large.weak_form().A\n",
    "\n",
    "grid_small = bempp.api.shapes.regular_sphere(3)\n",
    "space_small = bempp.api.function_space(grid_small, \"DP\", 0)\n",
    "\n",
    "ident_small = bempp.api.operators.boundary.sparse.identity(space_small, space_small, space_small)\n",
    "op_v_small = bempp.api.operators.boundary.laplace.single_layer(space_small, space_small, space_small)\n",
    "op_k_small = .5 * ident_small - bempp.api.operators.boundary.laplace.double_layer(space_small, space_small, space_small)\n",
    "\n",
    "A_v_small = op_v_small.weak_form().A\n",
    "A_k_small = op_k_small.weak_form().A\n",
    "M_small = ident_small.weak_form().A\n",
    "\n",
    "\n",
    "\n",
    "fun_large = bempp.api.GridFunction.from_random(space_large)\n",
    "b_large = fun_large.projections()\n",
    "\n",
    "fun_small = bempp.api.GridFunction.from_random(space_small)\n",
    "b_small = fun_small.projections()"
   ]
  },
  {
   "cell_type": "markdown",
   "id": "9c1cabd9",
   "metadata": {},
   "source": [
    "## Direct solution via LU decomposition"
   ]
  },
  {
   "cell_type": "markdown",
   "id": "59f2c296",
   "metadata": {},
   "source": [
    "The easiest way to solve the discrete problem is via LU decomposition. Moreover, it is very efficient if we want to solve problems with many right-hand sides. The disadvantage though is that the cost of a dense LU decomposition scales like $\\mathcal{O}(n^3)$ with $n$ the dimension of the discrete problem.\n",
    "\n",
    "In Python we can simply use the Numpy dense solver, which uses LAPACK for solving linear systems of equations."
   ]
  },
  {
   "cell_type": "code",
   "execution_count": 2,
   "id": "d2139878",
   "metadata": {},
   "outputs": [],
   "source": [
    "import numpy as np\n",
    "\n",
    "xvlu = np.linalg.solve(A_v_small, b_small)\n",
    "xklu = np.linalg.solve(A_k_small, b_small)"
   ]
  },
  {
   "cell_type": "markdown",
   "id": "41fc9f0d",
   "metadata": {},
   "source": [
    "We have used here the small mesh. The larger mesh with $32k$ elements would already be too large for some standard desktop computers to handle in reasonable time."
   ]
  },
  {
   "cell_type": "markdown",
   "id": "3e4d8455",
   "metadata": {},
   "source": [
    "## Iterative solvers"
   ]
  },
  {
   "cell_type": "markdown",
   "id": "0f89ae0f",
   "metadata": {},
   "source": [
    "Discrete boundary integral equations are mostly solved by iterative solvers. Typical solvers are CG (Conjugate Gradients) for symmetric positive definite systems (e.g. the Laplace single-layer operator), and GMRES (Generalized minimal residual) for nonsymmetric problems. The convergence of iterative solvers strongly depends on the distribution of the eigenvalues of the matrices. Without going into the theory, the eigenvalues should be clustered and away from zero to guarantee fast convergence. Let's plot the eigenvalues of $M^{-1}A_V$ and $M^{-1}A_K$, where $M$ is the discrete representation of the identity matrix. The matrix $M$ ensures that the scaling is correct so that we approximate the eigenvalues of the actual operators."
   ]
  },
  {
   "cell_type": "code",
   "execution_count": 3,
   "id": "3e1c676a",
   "metadata": {},
   "outputs": [
    {
     "data": {
      "text/plain": [
       "Text(0.5, 1.0, 'Double-Layer')"
      ]
     },
     "execution_count": 3,
     "metadata": {},
     "output_type": "execute_result"
    },
    {
     "data": {
      "image/png": "[encoded data removed]",
      "text/plain": [
       "<Figure size 432x288 with 2 Axes>"
      ]
     },
     "metadata": {
      "needs_background": "light"
     },
     "output_type": "display_data"
    }
   ],
   "source": [
    "%matplotlib inline\n",
    "from matplotlib import pyplot as plt\n",
    "from scipy.linalg import eigvals\n",
    "\n",
    "fig = plt.figure()\n",
    "ax1 = fig.add_subplot(121)\n",
    "ax2 = fig.add_subplot(122)\n",
    "\n",
    "eigv = eigvals(A_v_small, M_small.todense())\n",
    "eigk = eigvals(A_k_small, M_small.todense())\n",
    "\n",
    "ax1.plot(np.real(eigv), np.imag(eigv), 'rx', markersize=2)\n",
    "ax2.plot(np.real(eigk), np.imag(eigk), 'rx', markersize=2)\n",
    "ax1.axis([-1, 1, -1, 1])\n",
    "ax2.axis([-1, 1, -1, 1])\n",
    "\n",
    "ax1.set_title(\"Single-Layer\")\n",
    "ax2.set_title(\"Double-Layer\")"
   ]
  },
  {
   "cell_type": "markdown",
   "id": "0425949e",
   "metadata": {},
   "source": [
    "We see that in the single-layer operator has eigenvalues clustered around zero and the double-layer operator has eigenvalues clustered around $0.5$. This means that the convergence for the double-layer operator will be much better with iterative solvers. Let's try this out."
   ]
  },
  {
   "cell_type": "code",
   "execution_count": 4,
   "id": "a3c42561",
   "metadata": {},
   "outputs": [
    {
     "name": "stderr",
     "output_type": "stream",
     "text": [
      "/home/betcke/miniconda3/envs/dev/lib/python3.9/site-packages/scipy/sparse/linalg/dsolve/linsolve.py:318: SparseEfficiencyWarning: splu requires CSC matrix format\n",
      "  warn('splu requires CSC matrix format', SparseEfficiencyWarning)\n",
      "bempp:HOST:INFO: Starting GMRES iteration\n",
      "bempp:HOST:INFO: GMRES Iteration 1 with residual 0.9253974258008764\n",
      "bempp:HOST:INFO: GMRES Iteration 2 with residual 0.8299327427756287\n",
      "bempp:HOST:INFO: GMRES Iteration 3 with residual 0.7531377287864541\n",
      "bempp:HOST:INFO: GMRES Iteration 4 with residual 0.6393975067816466\n",
      "bempp:HOST:INFO: GMRES Iteration 5 with residual 0.5584504126915677\n",
      "bempp:HOST:INFO: GMRES Iteration 6 with residual 0.4762188082219082\n",
      "bempp:HOST:INFO: GMRES Iteration 7 with residual 0.40116302739497317\n",
      "bempp:HOST:INFO: GMRES Iteration 8 with residual 0.33486056760154237\n",
      "bempp:HOST:INFO: GMRES Iteration 9 with residual 0.27472375631340423\n",
      "bempp:HOST:INFO: GMRES Iteration 10 with residual 0.22319934755678547\n",
      "bempp:HOST:INFO: GMRES Iteration 11 with residual 0.1794270803818353\n",
      "bempp:HOST:INFO: GMRES Iteration 12 with residual 0.14266479292528772\n",
      "bempp:HOST:INFO: GMRES Iteration 13 with residual 0.12063612885471463\n",
      "bempp:HOST:INFO: GMRES Iteration 14 with residual 0.10515179685109224\n",
      "bempp:HOST:INFO: GMRES Iteration 15 with residual 0.08255635530264079\n",
      "bempp:HOST:INFO: GMRES Iteration 16 with residual 0.06663078754324368\n",
      "bempp:HOST:INFO: GMRES Iteration 17 with residual 0.06076691923470958\n",
      "bempp:HOST:INFO: GMRES Iteration 18 with residual 0.055575280561196774\n",
      "bempp:HOST:INFO: GMRES Iteration 19 with residual 0.04644468868018972\n",
      "bempp:HOST:INFO: GMRES Iteration 20 with residual 0.03660489876802902\n",
      "bempp:HOST:INFO: GMRES Iteration 21 with residual 0.03245773574687991\n",
      "bempp:HOST:INFO: GMRES Iteration 22 with residual 0.03194487634725406\n",
      "bempp:HOST:INFO: GMRES Iteration 23 with residual 0.029886477420378036\n",
      "bempp:HOST:INFO: GMRES Iteration 24 with residual 0.028076964232539112\n",
      "bempp:HOST:INFO: GMRES Iteration 25 with residual 0.025189446874647716\n",
      "bempp:HOST:INFO: GMRES Iteration 26 with residual 0.023304536434364996\n",
      "bempp:HOST:INFO: GMRES Iteration 27 with residual 0.020003425791249613\n",
      "bempp:HOST:INFO: GMRES Iteration 28 with residual 0.01782671848957703\n",
      "bempp:HOST:INFO: GMRES Iteration 29 with residual 0.014898385734323116\n",
      "bempp:HOST:INFO: GMRES Iteration 30 with residual 0.012416732011434358\n",
      "bempp:HOST:INFO: GMRES Iteration 31 with residual 0.010274183365179304\n",
      "bempp:HOST:INFO: GMRES Iteration 32 with residual 0.00828413009638546\n",
      "bempp:HOST:INFO: GMRES Iteration 33 with residual 0.0069090696285281404\n",
      "bempp:HOST:INFO: GMRES Iteration 34 with residual 0.006233800108222297\n",
      "bempp:HOST:INFO: GMRES Iteration 35 with residual 0.005076808865000625\n",
      "bempp:HOST:INFO: GMRES Iteration 36 with residual 0.0041040954996694416\n",
      "bempp:HOST:INFO: GMRES Iteration 37 with residual 0.003601507231443753\n",
      "bempp:HOST:INFO: GMRES Iteration 38 with residual 0.0032710600668408715\n",
      "bempp:HOST:INFO: GMRES Iteration 39 with residual 0.0028824599895642747\n",
      "bempp:HOST:INFO: GMRES Iteration 40 with residual 0.0023788143609553667\n",
      "bempp:HOST:INFO: GMRES Iteration 41 with residual 0.0021438372458272487\n",
      "bempp:HOST:INFO: GMRES Iteration 42 with residual 0.0020945928390855625\n",
      "bempp:HOST:INFO: GMRES Iteration 43 with residual 0.0019370045311693747\n",
      "bempp:HOST:INFO: GMRES Iteration 44 with residual 0.001803923065816967\n",
      "bempp:HOST:INFO: GMRES Iteration 45 with residual 0.0015955588027836314\n",
      "bempp:HOST:INFO: GMRES Iteration 46 with residual 0.0014638760584890628\n",
      "bempp:HOST:INFO: GMRES Iteration 47 with residual 0.0012919188795919312\n",
      "bempp:HOST:INFO: GMRES Iteration 48 with residual 0.0011506157994158486\n",
      "bempp:HOST:INFO: GMRES Iteration 49 with residual 0.0009924186028243188\n",
      "bempp:HOST:INFO: GMRES Iteration 50 with residual 0.0008391572735369537\n",
      "bempp:HOST:INFO: GMRES Iteration 51 with residual 0.0007112732775234726\n",
      "bempp:HOST:INFO: GMRES Iteration 52 with residual 0.0006008483715496614\n",
      "bempp:HOST:INFO: GMRES Iteration 53 with residual 0.0005161606984536316\n",
      "bempp:HOST:INFO: GMRES Iteration 54 with residual 0.0004733079306422792\n",
      "bempp:HOST:INFO: GMRES Iteration 55 with residual 0.0003902771787250715\n",
      "bempp:HOST:INFO: GMRES Iteration 56 with residual 0.0003192024791017203\n",
      "bempp:HOST:INFO: GMRES Iteration 57 with residual 0.00028833710425010757\n",
      "bempp:HOST:INFO: GMRES Iteration 58 with residual 0.00026423137975114305\n",
      "bempp:HOST:INFO: GMRES Iteration 59 with residual 0.00023836641889791207\n",
      "bempp:HOST:INFO: GMRES Iteration 60 with residual 0.00020186493782229804\n",
      "bempp:HOST:INFO: GMRES Iteration 61 with residual 0.000190850643538279\n",
      "bempp:HOST:INFO: GMRES Iteration 62 with residual 0.00017605140510733248\n",
      "bempp:HOST:INFO: GMRES Iteration 63 with residual 0.0001653174855844082\n",
      "bempp:HOST:INFO: GMRES Iteration 64 with residual 0.00015402648251235747\n",
      "bempp:HOST:INFO: GMRES Iteration 65 with residual 0.00013576835115618058\n",
      "bempp:HOST:INFO: GMRES Iteration 66 with residual 0.0001252841297136578\n",
      "bempp:HOST:INFO: GMRES Iteration 67 with residual 0.00011073561882473996\n",
      "bempp:HOST:INFO: GMRES Iteration 68 with residual 9.797897671603649e-05\n",
      "bempp:HOST:INFO: GMRES Iteration 69 with residual 8.33994067405634e-05\n",
      "bempp:HOST:INFO: GMRES Iteration 70 with residual 7.127618792027218e-05\n",
      "bempp:HOST:INFO: GMRES Iteration 71 with residual 6.054021493437165e-05\n",
      "bempp:HOST:INFO: GMRES Iteration 72 with residual 5.0772106090504235e-05\n",
      "bempp:HOST:INFO: GMRES Iteration 73 with residual 4.421457394938705e-05\n",
      "bempp:HOST:INFO: GMRES Iteration 74 with residual 4.05327208210358e-05\n",
      "bempp:HOST:INFO: GMRES Iteration 75 with residual 3.4185458935150515e-05\n",
      "bempp:HOST:INFO: GMRES Iteration 76 with residual 2.8792962285776204e-05\n",
      "bempp:HOST:INFO: GMRES Iteration 77 with residual 2.621867703669438e-05\n",
      "bempp:HOST:INFO: GMRES Iteration 78 with residual 2.4066622527389385e-05\n",
      "bempp:HOST:INFO: GMRES Iteration 79 with residual 2.1451218936993574e-05\n",
      "bempp:HOST:INFO: GMRES Iteration 80 with residual 1.849045407720989e-05\n",
      "bempp:HOST:INFO: GMRES Iteration 81 with residual 1.6987663950781136e-05\n",
      "bempp:HOST:INFO: GMRES Iteration 82 with residual 1.6342729896443616e-05\n",
      "bempp:HOST:INFO: GMRES Iteration 83 with residual 1.5302423266559748e-05\n",
      "bempp:HOST:INFO: GMRES Iteration 84 with residual 1.428098526395812e-05\n",
      "bempp:HOST:INFO: GMRES Iteration 85 with residual 1.2651923506499847e-05\n",
      "bempp:HOST:INFO: GMRES Iteration 86 with residual 1.1563887050478922e-05\n",
      "bempp:HOST:INFO: GMRES Iteration 87 with residual 1.0234840500978743e-05\n",
      "bempp:HOST:INFO: GMRES Iteration 88 with residual 9.093345831539904e-06\n",
      "bempp:HOST:INFO: GMRES finished in 88 iterations and took 1.60E+01 sec.\n"
     ]
    }
   ],
   "source": [
    "x, res, it_count = bempp.api.gmres(op_v_large, fun_large, use_strong_form=True, return_residuals=True)"
   ]
  },
  {
   "cell_type": "code",
   "execution_count": 5,
   "id": "5274d3af",
   "metadata": {},
   "outputs": [
    {
     "data": {
      "text/plain": [
       "Text(0.5, 1.0, 'Convergence for the single-layer operator.')"
      ]
     },
     "execution_count": 5,
     "metadata": {},
     "output_type": "execute_result"
    },
    {
     "data": {
      "image/png": "[encoded data removed]",
      "text/plain": [
       "<Figure size 432x288 with 1 Axes>"
      ]
     },
     "metadata": {
      "needs_background": "light"
     },
     "output_type": "display_data"
    }
   ],
   "source": [
    "plt.semilogy(it_count)\n",
    "plt.xlabel('iteration')\n",
    "plt.ylabel('residual')\n",
    "plt.title('Convergence for the single-layer operator.')"
   ]
  },
  {
   "cell_type": "code",
   "execution_count": 6,
   "id": "ba8767a6",
   "metadata": {},
   "outputs": [
    {
     "name": "stderr",
     "output_type": "stream",
     "text": [
      "bempp:HOST:INFO: Starting GMRES iteration\n",
      "bempp:HOST:INFO: GMRES Iteration 1 with residual 0.011740362184927824\n",
      "bempp:HOST:INFO: GMRES Iteration 2 with residual 0.0032789275004399877\n",
      "bempp:HOST:INFO: GMRES Iteration 3 with residual 0.00035811035485506035\n",
      "bempp:HOST:INFO: GMRES Iteration 4 with residual 2.633118193451425e-05\n",
      "bempp:HOST:INFO: GMRES Iteration 5 with residual 1.3958641362734612e-06\n",
      "bempp:HOST:INFO: GMRES finished in 5 iterations and took 1.19E+00 sec.\n"
     ]
    },
    {
     "data": {
      "text/plain": [
       "Text(0.5, 1.0, 'Convergence for the double-layer operator.')"
      ]
     },
     "execution_count": 6,
     "metadata": {},
     "output_type": "execute_result"
    },
    {
     "data": {
      "image/png": "[encoded data removed]",
      "text/plain": [
       "<Figure size 432x288 with 1 Axes>"
      ]
     },
     "metadata": {
      "needs_background": "light"
     },
     "output_type": "display_data"
    }
   ],
   "source": [
    "x, res, it_count = bempp.api.gmres(op_k_large, fun_large, use_strong_form=True, return_residuals=True)\n",
    "\n",
    "plt.semilogy(it_count)\n",
    "plt.xlabel('iteration')\n",
    "plt.ylabel('residual')\n",
    "plt.title('Convergence for the double-layer operator.')"
   ]
  },
  {
   "cell_type": "markdown",
   "id": "ef37926c",
   "metadata": {},
   "source": [
    "In the above two examples one notices the parameter ``use_strong_form=True``. This is the Bempp notation for using mass matrix preconditioning. This means that instead of the system $Ax=b$. We solve the system $M^{-1}Ax = M^{-1}b$, where $M$ is the discretisation of the identity matrix. This is a rescaling that removes ill-conditioning due to the size of the elements.\n",
    "\n",
    "More generally, preconditioners are matrices $P$, such that iterative solvers for $P^{-1}Ax = P^{-1}b$ converge faster to the correct solution than just iterative solvers applied to the equation $Ax=b$.\n",
    "\n",
    "While the double-layer operator converges in just a few iterations the single-layer operator takes much longer. This is due to its eigenvalues being clustered around zero. Integral equations with $\\frac{1}{2}I-K$ are also called Fredholm integral equations of the second kind while equations with the operator $V$ on the left-hand side are called Fredholm integral operators of the first kind.\n",
    "\n",
    "For second kind integral equations mass matrix preconditioning is sufficient. For first kind integral equations we often want more sophisticated operator preconditioners such that $P^{-1}A$ has eigenvalues clustered away from zero.\n",
    "\n",
    "We note that we could have used CG as iterative solver for the single-layer operator $V$. The reason is that internally Bempp ignores that $M^{-1}A_K$ could be solved as a preconditioned positive definite system and treats it as un unsymmetric system. By extracting the matrices and using an external routine one could circumvent this."
   ]
  },
  {
   "cell_type": "code",
   "execution_count": null,
   "id": "3a80ab89",
   "metadata": {},
   "outputs": [],
   "source": []
  }
 ],
 "metadata": {
  "kernelspec": {
   "display_name": "Python 3 (ipykernel)",
   "language": "python",
   "name": "python3"
  },
  "language_info": {
   "codemirror_mode": {
    "name": "ipython",
    "version": 3
   },
   "file_extension": ".py",
   "mimetype": "text/x-python",
   "name": "python",
   "nbconvert_exporter": "python",
   "pygments_lexer": "ipython3",
   "version": "3.9.13"
  }
 },
 "nbformat": 4,
 "nbformat_minor": 5
}
