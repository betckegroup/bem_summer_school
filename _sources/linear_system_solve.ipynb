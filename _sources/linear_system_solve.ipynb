{
 "cells": [
  {
   "cell_type": "markdown",
   "id": "16797065",
   "metadata": {},
   "source": [
    "# Solving the linear system"
   ]
  },
  {
   "cell_type": "markdown",
   "id": "814f1311",
   "metadata": {},
   "source": [
    "After discretising the integral operator we need to solve the resulting linear sytem of equations. Depending on the size of the system we can use either a direct LU decomposition or use an iterative solver. In the following we will give a few remarks to both types of solvers.\n",
    "\n",
    "As canonical examples we will consider the following two problems.\n",
    "\n",
    "- Solution of the single-layer boundary integral equation discretised as $A_Vx = b$\n",
    "with \n",
    "\n",
    "$$\n",
    "[A_V][i, j] = \\int_{\\tau_i}\\int_{\\tau_j}g(x, y)ds(y)ds(x).\n",
    "$$\n",
    "\n",
    "- Solution of the double-layer boundary integral equation discretised as $A_Kx = b$\n",
    "with\n",
    "\n",
    "$$\n",
    "[A_K][i, j] = \\frac{1}{2}\\int_{\\tau_i\\cap\\tau_j}1ds(x)ds(y) + \\int_{\\tau_i}\\int_{\\tau_j}\\frac{\\partial g(x, y)}{\\partial n(y)}ds(y)ds(x)\n",
    "$$\n",
    "\n",
    "In both cases the trial and test spaces are simply the spaces of piecewise constant functions on each triangle.\n"
   ]
  },
  {
   "cell_type": "markdown",
   "id": "ac8e5e0d",
   "metadata": {},
   "source": [
    "## Setting up the test problems"
   ]
  },
  {
   "cell_type": "markdown",
   "id": "edb15837",
   "metadata": {},
   "source": [
    "We first setup the test problems. We will setup a larger problem for testing iterative solvers and a smaller problem\n",
    "to approximate the eigenvalues and draw them. This ensures that the notebook still runs in reasonable time."
   ]
  },
  {
   "cell_type": "code",
   "execution_count": 1,
   "id": "f8d9d655",
   "metadata": {},
   "outputs": [
    {
     "name": "stderr",
     "output_type": "stream",
     "text": [
      "bempp:HOST:INFO: Created grid with id b7d63faa-44eb-495b-ae73-b7b82f290166. Elements: 32768. Edges: 49152. Vertices: 16386\n",
      "bempp:HOST:INFO: OpenCL CPU Device set to: AMD Ryzen Threadripper 3970X 32-Core Processor \n",
      "/home/betcke/miniconda3/envs/dev/lib/python3.9/site-packages/pyopencl/__init__.py:274: CompilerWarning: Non-empty compiler output encountered. Set the environment variable PYOPENCL_COMPILER_OUTPUT=1 to see more.\n",
      "  warn(\"Non-empty compiler output encountered. Set the \"\n",
      "/home/betcke/miniconda3/envs/dev/lib/python3.9/site-packages/pyopencl/__init__.py:274: CompilerWarning: Non-empty compiler output encountered. Set the environment variable PYOPENCL_COMPILER_OUTPUT=1 to see more.\n",
      "  warn(\"Non-empty compiler output encountered. Set the \"\n",
      "bempp:HOST:INFO: Created grid with id 52a182f6-1dda-4090-852e-36629c3aa3cc. Elements: 512. Edges: 768. Vertices: 258\n"
     ]
    }
   ],
   "source": [
    "import bempp.api\n",
    "\n",
    "bempp.api.enable_console_logging()\n",
    "grid_large = bempp.api.shapes.regular_sphere(6)\n",
    "space_large = bempp.api.function_space(grid_large, \"DP\", 0)\n",
    "\n",
    "ident_large = bempp.api.operators.boundary.sparse.identity(space_large, space_large, space_large)\n",
    "op_v_large = bempp.api.operators.boundary.laplace.single_layer(space_large, space_large, space_large)\n",
    "op_k_large = .5 * ident_large - bempp.api.operators.boundary.laplace.double_layer(space_large, space_large, space_large)\n",
    "\n",
    "A_v_large = op_v_large.weak_form().A\n",
    "A_k_large = op_k_large.weak_form().A\n",
    "M_large = ident_large.weak_form().A\n",
    "\n",
    "grid_small = bempp.api.shapes.regular_sphere(3)\n",
    "space_small = bempp.api.function_space(grid_small, \"DP\", 0)\n",
    "\n",
    "ident_small = bempp.api.operators.boundary.sparse.identity(space_small, space_small, space_small)\n",
    "op_v_small = bempp.api.operators.boundary.laplace.single_layer(space_small, space_small, space_small)\n",
    "op_k_small = .5 * ident_small - bempp.api.operators.boundary.laplace.double_layer(space_small, space_small, space_small)\n",
    "\n",
    "A_v_small = op_v_small.weak_form().A\n",
    "A_k_small = op_k_small.weak_form().A\n",
    "M_small = ident_small.weak_form().A\n",
    "\n",
    "\n",
    "\n",
    "fun_large = bempp.api.GridFunction.from_random(space_large)\n",
    "b_large = fun_large.projections()\n",
    "\n",
    "fun_small = bempp.api.GridFunction.from_random(space_small)\n",
    "b_small = fun_small.projections()"
   ]
  },
  {
   "cell_type": "markdown",
   "id": "9c1cabd9",
   "metadata": {},
   "source": [
    "## Direct solution via LU decomposition"
   ]
  },
  {
   "cell_type": "markdown",
   "id": "59f2c296",
   "metadata": {},
   "source": [
    "The easiest way to solve the discrete problem is via LU decomposition. Moreover, it is very efficient if we want to solve problems with many right-hand sides. The disadvantage though is that the cost of a dense LU decomposition scales like $\\mathcal{O}(n^3)$ with $n$ the dimension of the discrete problem.\n",
    "\n",
    "In Python we can simply use the Numpy dense solver, which uses LAPACK for solving linear systems of equations."
   ]
  },
  {
   "cell_type": "code",
   "execution_count": 2,
   "id": "d2139878",
   "metadata": {},
   "outputs": [],
   "source": [
    "import numpy as np\n",
    "\n",
    "xvlu = np.linalg.solve(A_v_small, b_small)\n",
    "xklu = np.linalg.solve(A_k_small, b_small)"
   ]
  },
  {
   "cell_type": "markdown",
   "id": "41fc9f0d",
   "metadata": {},
   "source": [
    "We have used here the small mesh. The larger mesh with $32k$ elements would already be too large for some standard desktop computers to handle in reasonable time."
   ]
  },
  {
   "cell_type": "markdown",
   "id": "3e4d8455",
   "metadata": {},
   "source": [
    "## Iterative solvers"
   ]
  },
  {
   "cell_type": "markdown",
   "id": "0f89ae0f",
   "metadata": {},
   "source": [
    "Discrete boundary integral equations are mostly solved by iterative solvers. Typical solvers are CG (Conjugate Gradients) for symmetric positive definite systems (e.g. the Laplace single-layer operator), and GMRES (Generalized minimal residual) for nonsymmetric problems. The convergence of iterative solvers strongly depends on the distribution of the eigenvalues of the matrices. Without going into the theory, the eigenvalues should be clustered and away from zero to guarantee fast convergence. Let's plot the eigenvalues of $M^{-1}A_V$ and $M^{-1}A_K$, where $M$ is the discrete representation of the identity matrix. The matrix $M$ ensures that the scaling is correct so that we approximate the eigenvalues of the actual operators."
   ]
  },
  {
   "cell_type": "code",
   "execution_count": 3,
   "id": "3e1c676a",
   "metadata": {},
   "outputs": [
    {
     "data": {
      "text/plain": [
       "Text(0.5, 1.0, 'Double-Layer')"
      ]
     },
     "execution_count": 3,
     "metadata": {},
     "output_type": "execute_result"
    },
    {
     "data": {
      "image/png": "[encoded data removed]",
      "text/plain": [
       "<Figure size 432x288 with 2 Axes>"
      ]
     },
     "metadata": {
      "needs_background": "light"
     },
     "output_type": "display_data"
    }
   ],
   "source": [
    "%matplotlib inline\n",
    "from matplotlib import pyplot as plt\n",
    "from scipy.linalg import eigvals\n",
    "\n",
    "fig = plt.figure()\n",
    "ax1 = fig.add_subplot(121)\n",
    "ax2 = fig.add_subplot(122)\n",
    "\n",
    "eigv = eigvals(A_v_small, M_small.todense())\n",
    "eigk = eigvals(A_k_small, M_small.todense())\n",
    "\n",
    "ax1.plot(np.real(eigv), np.imag(eigv), 'rx', markersize=2)\n",
    "ax2.plot(np.real(eigk), np.imag(eigk), 'rx', markersize=2)\n",
    "ax1.axis([-1, 1, -1, 1])\n",
    "ax2.axis([-1, 1, -1, 1])\n",
    "\n",
    "ax1.set_title(\"Single-Layer\")\n",
    "ax2.set_title(\"Double-Layer\")"
   ]
  },
  {
   "cell_type": "markdown",
   "id": "0425949e",
   "metadata": {},
   "source": [
    "We see that in the single-layer operator has eigenvalues clustered around zero and the double-layer operator has eigenvalues clustered around $0.5$. This means that the convergence for the double-layer operator will be much better with iterative solvers. Let's try this out."
   ]
  },
  {
   "cell_type": "code",
   "execution_count": 4,
   "id": "a3c42561",
   "metadata": {},
   "outputs": [
    {
     "name": "stderr",
     "output_type": "stream",
     "text": [
      "/home/betcke/miniconda3/envs/dev/lib/python3.9/site-packages/scipy/sparse/linalg/dsolve/linsolve.py:318: SparseEfficiencyWarning: splu requires CSC matrix format\n",
      "  warn('splu requires CSC matrix format', SparseEfficiencyWarning)\n",
      "bempp:HOST:INFO: Starting GMRES iteration\n",
      "bempp:HOST:INFO: GMRES Iteration 1 with residual 0.865283501884796\n",
      "bempp:HOST:INFO: GMRES Iteration 2 with residual 0.8182754182410917\n",
      "bempp:HOST:INFO: GMRES Iteration 3 with residual 0.7467522252749375\n",
      "bempp:HOST:INFO: GMRES Iteration 4 with residual 0.6467895423392332\n",
      "bempp:HOST:INFO: GMRES Iteration 5 with residual 0.5683857802724265\n",
      "bempp:HOST:INFO: GMRES Iteration 6 with residual 0.480094711067124\n",
      "bempp:HOST:INFO: GMRES Iteration 7 with residual 0.40197442634058256\n",
      "bempp:HOST:INFO: GMRES Iteration 8 with residual 0.3355360278457393\n",
      "bempp:HOST:INFO: GMRES Iteration 9 with residual 0.2760903033647621\n",
      "bempp:HOST:INFO: GMRES Iteration 10 with residual 0.22383306750687634\n",
      "bempp:HOST:INFO: GMRES Iteration 11 with residual 0.177266733575374\n",
      "bempp:HOST:INFO: GMRES Iteration 12 with residual 0.1421361853041288\n",
      "bempp:HOST:INFO: GMRES Iteration 13 with residual 0.12921631949619952\n",
      "bempp:HOST:INFO: GMRES Iteration 14 with residual 0.10484278264851037\n",
      "bempp:HOST:INFO: GMRES Iteration 15 with residual 0.08327648739292136\n",
      "bempp:HOST:INFO: GMRES Iteration 16 with residual 0.06666230733262997\n",
      "bempp:HOST:INFO: GMRES Iteration 17 with residual 0.05974066079321031\n",
      "bempp:HOST:INFO: GMRES Iteration 18 with residual 0.055345335744355725\n",
      "bempp:HOST:INFO: GMRES Iteration 19 with residual 0.04669369372767945\n",
      "bempp:HOST:INFO: GMRES Iteration 20 with residual 0.03672601466298451\n",
      "bempp:HOST:INFO: GMRES Iteration 21 with residual 0.03304331200873078\n",
      "bempp:HOST:INFO: GMRES Iteration 22 with residual 0.032317932371302475\n",
      "bempp:HOST:INFO: GMRES Iteration 23 with residual 0.030245034220260054\n",
      "bempp:HOST:INFO: GMRES Iteration 24 with residual 0.028608117030848635\n",
      "bempp:HOST:INFO: GMRES Iteration 25 with residual 0.025420076181090653\n",
      "bempp:HOST:INFO: GMRES Iteration 26 with residual 0.023647507008733686\n",
      "bempp:HOST:INFO: GMRES Iteration 27 with residual 0.020025023436450507\n",
      "bempp:HOST:INFO: GMRES Iteration 28 with residual 0.01803096115813286\n",
      "bempp:HOST:INFO: GMRES Iteration 29 with residual 0.014746136515314203\n",
      "bempp:HOST:INFO: GMRES Iteration 30 with residual 0.012307936815209608\n",
      "bempp:HOST:INFO: GMRES Iteration 31 with residual 0.010128869502627147\n",
      "bempp:HOST:INFO: GMRES Iteration 32 with residual 0.008306262839755616\n",
      "bempp:HOST:INFO: GMRES Iteration 33 with residual 0.006995215596899741\n",
      "bempp:HOST:INFO: GMRES Iteration 34 with residual 0.006316697579351628\n",
      "bempp:HOST:INFO: GMRES Iteration 35 with residual 0.005124900994428298\n",
      "bempp:HOST:INFO: GMRES Iteration 36 with residual 0.0041084685626884485\n",
      "bempp:HOST:INFO: GMRES Iteration 37 with residual 0.0035810099036750055\n",
      "bempp:HOST:INFO: GMRES Iteration 38 with residual 0.003099591470697038\n",
      "bempp:HOST:INFO: GMRES Iteration 39 with residual 0.0028613523692889234\n",
      "bempp:HOST:INFO: GMRES Iteration 40 with residual 0.0023670735782809036\n",
      "bempp:HOST:INFO: GMRES Iteration 41 with residual 0.0022459716857122056\n",
      "bempp:HOST:INFO: GMRES Iteration 42 with residual 0.002145646424940707\n",
      "bempp:HOST:INFO: GMRES Iteration 43 with residual 0.0019848425851774084\n",
      "bempp:HOST:INFO: GMRES Iteration 44 with residual 0.0018422368991018285\n",
      "bempp:HOST:INFO: GMRES Iteration 45 with residual 0.00161273616305907\n",
      "bempp:HOST:INFO: GMRES Iteration 46 with residual 0.0014501502892209932\n",
      "bempp:HOST:INFO: GMRES Iteration 47 with residual 0.0013046996313118943\n",
      "bempp:HOST:INFO: GMRES Iteration 48 with residual 0.001134268778737116\n",
      "bempp:HOST:INFO: GMRES Iteration 49 with residual 0.0009545356681886175\n",
      "bempp:HOST:INFO: GMRES Iteration 50 with residual 0.0007984045467834078\n",
      "bempp:HOST:INFO: GMRES Iteration 51 with residual 0.0006680503550660573\n",
      "bempp:HOST:INFO: GMRES Iteration 52 with residual 0.0005577479466404359\n",
      "bempp:HOST:INFO: GMRES Iteration 53 with residual 0.00048579533956282276\n",
      "bempp:HOST:INFO: GMRES Iteration 54 with residual 0.0004403856261693189\n",
      "bempp:HOST:INFO: GMRES Iteration 55 with residual 0.00037476782737975393\n",
      "bempp:HOST:INFO: GMRES Iteration 56 with residual 0.0003204926173260658\n",
      "bempp:HOST:INFO: GMRES Iteration 57 with residual 0.0002876315490864872\n",
      "bempp:HOST:INFO: GMRES Iteration 58 with residual 0.0002638403412043602\n",
      "bempp:HOST:INFO: GMRES Iteration 59 with residual 0.00023050619745856928\n",
      "bempp:HOST:INFO: GMRES Iteration 60 with residual 0.00019950885952884896\n",
      "bempp:HOST:INFO: GMRES Iteration 61 with residual 0.00019422643970799151\n",
      "bempp:HOST:INFO: GMRES Iteration 62 with residual 0.00018083929761913425\n",
      "bempp:HOST:INFO: GMRES Iteration 63 with residual 0.0001640341321126325\n",
      "bempp:HOST:INFO: GMRES Iteration 64 with residual 0.00015315028180293367\n",
      "bempp:HOST:INFO: GMRES Iteration 65 with residual 0.00014307369873905584\n",
      "bempp:HOST:INFO: GMRES Iteration 66 with residual 0.00012360816573638963\n",
      "bempp:HOST:INFO: GMRES Iteration 67 with residual 0.00010990949847125591\n",
      "bempp:HOST:INFO: GMRES Iteration 68 with residual 9.454792228194357e-05\n",
      "bempp:HOST:INFO: GMRES Iteration 69 with residual 7.84827568794843e-05\n",
      "bempp:HOST:INFO: GMRES Iteration 70 with residual 6.841998649505815e-05\n",
      "bempp:HOST:INFO: GMRES Iteration 71 with residual 5.684938683471638e-05\n",
      "bempp:HOST:INFO: GMRES Iteration 72 with residual 4.670970060016766e-05\n",
      "bempp:HOST:INFO: GMRES Iteration 73 with residual 4.29489037519109e-05\n",
      "bempp:HOST:INFO: GMRES Iteration 74 with residual 3.7026670618232604e-05\n",
      "bempp:HOST:INFO: GMRES Iteration 75 with residual 3.119736783017419e-05\n",
      "bempp:HOST:INFO: GMRES Iteration 76 with residual 2.7746200677685374e-05\n",
      "bempp:HOST:INFO: GMRES Iteration 77 with residual 2.4507508331253024e-05\n",
      "bempp:HOST:INFO: GMRES Iteration 78 with residual 2.2882110485214235e-05\n",
      "bempp:HOST:INFO: GMRES Iteration 79 with residual 2.0428073124847054e-05\n",
      "bempp:HOST:INFO: GMRES Iteration 80 with residual 1.831068156768704e-05\n",
      "bempp:HOST:INFO: GMRES Iteration 81 with residual 1.744350157012266e-05\n",
      "bempp:HOST:INFO: GMRES Iteration 82 with residual 1.6579648668031678e-05\n",
      "bempp:HOST:INFO: GMRES Iteration 83 with residual 1.549458447894526e-05\n",
      "bempp:HOST:INFO: GMRES Iteration 84 with residual 1.4312351547142651e-05\n",
      "bempp:HOST:INFO: GMRES Iteration 85 with residual 1.3221188154536586e-05\n",
      "bempp:HOST:INFO: GMRES Iteration 86 with residual 1.169564552366975e-05\n",
      "bempp:HOST:INFO: GMRES Iteration 87 with residual 1.0355408245352669e-05\n",
      "bempp:HOST:INFO: GMRES Iteration 88 with residual 9.171565555026207e-06\n",
      "bempp:HOST:INFO: GMRES finished in 88 iterations and took 1.60E+01 sec.\n"
     ]
    }
   ],
   "source": [
    "x, res, it_count = bempp.api.gmres(op_v_large, fun_large, use_strong_form=True, return_residuals=True)"
   ]
  },
  {
   "cell_type": "code",
   "execution_count": 9,
   "id": "5274d3af",
   "metadata": {},
   "outputs": [
    {
     "data": {
      "text/plain": [
       "Text(0.5, 1.0, 'Convergence for the single-layer operator.')"
      ]
     },
     "execution_count": 9,
     "metadata": {},
     "output_type": "execute_result"
    },
    {
     "data": {
      "image/png": "[encoded data removed]",
      "text/plain": [
       "<Figure size 432x288 with 1 Axes>"
      ]
     },
     "metadata": {
      "needs_background": "light"
     },
     "output_type": "display_data"
    }
   ],
   "source": [
    "plt.semilogy(it_count)\n",
    "plt.xlabel('iteration')\n",
    "plt.ylabel('residual')\n",
    "plt.title('Convergence for the single-layer operator.')"
   ]
  },
  {
   "cell_type": "code",
   "execution_count": 8,
   "id": "ba8767a6",
   "metadata": {},
   "outputs": [
    {
     "name": "stderr",
     "output_type": "stream",
     "text": [
      "bempp:HOST:INFO: Starting GMRES iteration\n",
      "bempp:HOST:INFO: GMRES Iteration 1 with residual 0.008454857100700427\n",
      "bempp:HOST:INFO: GMRES Iteration 2 with residual 0.0018043362094335256\n",
      "bempp:HOST:INFO: GMRES Iteration 3 with residual 0.00031478780918214736\n",
      "bempp:HOST:INFO: GMRES Iteration 4 with residual 2.7240750636403492e-05\n",
      "bempp:HOST:INFO: GMRES Iteration 5 with residual 1.5957049272245287e-06\n",
      "bempp:HOST:INFO: GMRES finished in 5 iterations and took 1.19E+00 sec.\n"
     ]
    },
    {
     "data": {
      "text/plain": [
       "Text(0.5, 1.0, 'Convergence for the double-layer operator.')"
      ]
     },
     "execution_count": 8,
     "metadata": {},
     "output_type": "execute_result"
    },
    {
     "data": {
      "image/png": "[encoded data removed]",
      "text/plain": [
       "<Figure size 432x288 with 1 Axes>"
      ]
     },
     "metadata": {
      "needs_background": "light"
     },
     "output_type": "display_data"
    }
   ],
   "source": [
    "x, res, it_count = bempp.api.gmres(op_k_large, fun_large, use_strong_form=True, return_residuals=True)\n",
    "\n",
    "plt.semilogy(it_count)\n",
    "plt.xlabel('iteration')\n",
    "plt.ylabel('residual')\n",
    "plt.title('Convergence for the double-layer operator.')"
   ]
  },
  {
   "cell_type": "markdown",
   "id": "ef37926c",
   "metadata": {},
   "source": [
    "In the above two examples one notices the parameter ``use_strong_form=True``. This is the Bempp notation for using mass matrix preconditioning. This means that instead of the system $Ax=b$. We solve the system $M^{-1}Ax = M^{-1}b$, where $M$ is the discretisation of the identity matrix. This is a rescaling that removes ill-conditioning due to the size of the elements.\n",
    "\n",
    "More generally, preconditioners are matrices $P$, such that iterative solvers for $P^{-1}Ax = P^{-1}b$ converge faster to the correct solution than just iterative solvers applied to the equation $Ax=b$.\n",
    "\n",
    "While the double-layer operator converges in just a few iterations the single-layer operator takes much longer. This is due to its eigenvalues being clustered around zero. Integral equations with $\\frac{1}{2}I+K$ are also called Fredholm integral equations of the second kind while equations with the operator $V$ on the left-hand side are called Fredholm integral operators of the first kind.\n",
    "\n",
    "For second kind integral equations mass matrix preconditioning is sufficient. For first kind integral equations we often want more sophisticated operator preconditioners such that $P^{-1}A$ has eigenvalues clustered away from zero.\n",
    "\n",
    "We note that we could have used CG as iterative solver for the single-layer operator $V$. The reason is that internally Bempp ignores that $M^{-1}A_K$ could be solved as a preconditioned positive definite system and treats it as un unsymmetric system. By extracting the matrices and using an external routine one could circumvent this."
   ]
  },
  {
   "cell_type": "code",
   "execution_count": null,
   "id": "3a80ab89",
   "metadata": {},
   "outputs": [],
   "source": []
  }
 ],
 "metadata": {
  "kernelspec": {
   "display_name": "Python 3 (ipykernel)",
   "language": "python",
   "name": "python3"
  },
  "language_info": {
   "codemirror_mode": {
    "name": "ipython",
    "version": 3
   },
   "file_extension": ".py",
   "mimetype": "text/x-python",
   "name": "python",
   "nbconvert_exporter": "python",
   "pygments_lexer": "ipython3",
   "version": "3.9.13"
  }
 },
 "nbformat": 4,
 "nbformat_minor": 5
}
