{
 "cells": [
  {
   "cell_type": "markdown",
   "metadata": {},
   "source": [
    "# Tree partitioning\n",
    "\n",
    " In this section we discuss partitioning strategies for our computational domain that let us sort our sources and targets into admissible and non-admissible pairs.\n",
    "\n",
    "Historically, Hierarchical Matrix methods use binary cluster trees to partition the computational domain, and Fast Multipole Methods use partitioning based on Octrees. In the following we will discuss both types of trees.\n",
    "\n",
    "Before we talk about these two types of trees let us remind of the mathematical definition of a tree. We denote a graph as a tuple $G = (V, E)$, where $V$ is a set of vertices, and $E$ is a set of edges, connecting two vertices. We call a graph undirected if the edges have no orientation.\n",
    "\n",
    "In this section we deal with a special type of undirected graph, namely a tree.\n",
    "\n",
    "**Definition** A tree is an undirected graph $(G, E)$ in which any two vertices are connected by a unique simple path (in a simple path all vertices are distinct).\n",
    "\n",
    "We designate one vertex in the tree as root. The parent of a vertex $v$ is the vertex directly connected to the root on the unique path to the root. The children of a verte $v$ are those vertices for which $v$ is a parent. We denote the set of children of $v$ by $\\mathcal{C}(v)$.\n",
    "\n",
    "We say that a vertex is a leaf if it has no children. We denote the set of leafs as $\\mathcal{L}$.\n",
    "\n",
    "\n",
    "The level $\\ell(v)$ of a vertex $v$ is the number of edges on the direct path from $v$ to the root $r$. The root itself has level $0$, its children have level $1$. The depth of a tree is the maximum over all levels in the tree, that is $\\text{depth} := \\max_{v\\in V}\\ell(v)$.\n",
    "\n",
    "For simplicity in this section we assume that we have $N$ points $x_i\\in [0, 1]^d$, $i=1,\\dots, N$, $d=2, 3$. By $J:=\\{1, \\dots, N\\}$ we denote the corresponding index set.\n",
    "\n"
   ]
  },
  {
   "cell_type": "markdown",
   "metadata": {},
   "source": [
    "## Cluster Trees\n",
    "\n"
   ]
  },
  {
   "cell_type": "markdown",
   "metadata": {},
   "source": [
    "A cluster tree is a tree over the index set $J$ in which each vertex $v$ is associated with an index set $J_v\\subset $J$ satisfying the following conditions.\n",
    "\n",
    "\n",
    "- The index set of the root $r$ of the tree is $J$.\n",
    "- For each vertex $v$ that is not a leaf the following two conditions hold\n",
    "    - The index sets of the children of $v$ are disjoint, that is for $c, c'\\in \\mathcal{C}(v)$ and $c\\neq c'$ we have that $J_c\\cap J_{c'} = \\emptyset$.\n",
    "    - The union of the index sets of the children are identical to the index set of the parent, that is $J_v = \\bigcup_{c\\in\\mathcal{C}(v)} J_c$.\n",
    "- For each vertex $v$ that is not a leaf the number of children is larger than one, that is $|\\mathcal{C}(v)| > 1$.\n",
    "- No vertex is associated with the empty set, that is $|J_v| > 0$ for all $v\\in V$."
   ]
  },
  {
   "cell_type": "markdown",
   "metadata": {},
   "source": [
    "In the following we implement simple data structures to construct a cluster tree. We have two classes, a bounding box class that stores geometric bounding boxes, and a Node class that stores an index set, allows subdivision and returns depth and leaf information.\n",
    "\n",
    "The most important part is the subdivision. For subdivision we choose the dimension along which the bounding box is longest. We then compute the mean of the points in the index set along this dimension and separate the points by those who are smaller than the mean and those which are larger. From these we construct two new nodes.\n",
    "\n",
    "There can be the pathological case that all points are aligned along aline. Then this strategy would leave one of the two new index sets empty. In that case we try to subdivide across the other dimension. If that fails as well we raise an exception since in that case all points in the index set are identical.\n",
    "\n",
    "The recursive partitioning proceeds until the children have fewer than a given parameter ``nmin`` indices. This is chosen by the user and determines the depth of the tree."
   ]
  },
  {
   "cell_type": "code",
   "execution_count": 1,
   "metadata": {},
   "outputs": [],
   "source": [
    "class BoundingBox:\n",
    "    \"\"\"Store a bounding box for a two dimensionsal region.\"\"\"\n",
    "\n",
    "    def __init__(self, lower_left, upper_right):\n",
    "        \"\"\"Define a bounding box.\n",
    "        \n",
    "            lower_left and upper_right are tuples of floats that\n",
    "            determine the lower left and upper right corner of the\n",
    "            bounding box.       \n",
    "        \"\"\"\n",
    "\n",
    "        self.lower_left = lower_left\n",
    "        self.upper_right = upper_right\n",
    "\n",
    "    def longest_dimension(self):\n",
    "        \"\"\"Return the longest dimension.\"\"\"\n",
    "\n",
    "        xlen = self.upper_right[0] - self.lower_left[0]\n",
    "        ylen = self.upper_right[1] - self.lower_left[1]\n",
    "\n",
    "        return 0 if xlen >= ylen else 1\n",
    "\n",
    "    def subdivide(self, dim, separator):\n",
    "        \"\"\"Subdivide a bounding box along the given dimension.\n",
    "        \n",
    "            The parameter dim is either 0 (x-axis) or 1 (y-axis). The\n",
    "            subdivision proceeds along this axis.\n",
    "\n",
    "            The value separator specifies the point at which to divide up\n",
    "            the bounding box.\n",
    "\n",
    "        \"\"\"\n",
    "\n",
    "        if dim == 0:\n",
    "\n",
    "            lower_left1 = self.lower_left\n",
    "            upper_right1 = (separator, self.upper_right[1])\n",
    "\n",
    "            lower_left2 = (separator, self.lower_left[1])\n",
    "            upper_right2 = self.upper_right\n",
    "\n",
    "        elif dim == 1:\n",
    "\n",
    "            lower_left1 = self.lower_left\n",
    "            upper_right1 = (self.upper_right[0], separator)\n",
    "\n",
    "            lower_left2 = (self.lower_left[0], separator)\n",
    "            upper_right2 = self.upper_right\n",
    "        else:\n",
    "            raise NotImplementedError\n",
    "\n",
    "        return (BoundingBox(lower_left1, upper_right1), \n",
    "                BoundingBox(lower_left2, upper_right2))\n",
    "            "
   ]
  },
  {
   "cell_type": "code",
   "execution_count": 22,
   "metadata": {},
   "outputs": [],
   "source": [
    "class Node:\n",
    "    \"\"\"\n",
    "    Stores information about nodes of a cluster tree and allows\n",
    "    subdivision of a node.\n",
    "    \"\"\"\n",
    "\n",
    "    def __init__(self, parent, indices, bounding_box, points):\n",
    "        \"\"\"\n",
    "        Create a new node with given parent and indices.\n",
    "        \n",
    "        The bounding box has the form [(x_1, y_1), (x_2, y_2)]\n",
    "        denoting the lower left and upper right point defining the\n",
    "        bounding box for the index set.\n",
    "\n",
    "        The variable points stores the original point set as Numpy\n",
    "        array of shape (2, N).\n",
    "        \n",
    "        \"\"\"\n",
    "\n",
    "        self.parent = parent\n",
    "        self.indices = indices\n",
    "        self.children = None\n",
    "        self.bounding_box = bounding_box\n",
    "        self.points = points\n",
    "\n",
    "    def subdivide(self):\n",
    "        \"\"\"Subdivide node along longest dimension.\"\"\"\n",
    "\n",
    "        dim = self.bounding_box.longest_dimension()\n",
    "\n",
    "        first_set, second_set, separator = self.subdivide_impl(dim)\n",
    "\n",
    "        if len(first_set) == 0 or len(second_set) == 0:\n",
    "            # Subdivision along this axis did not work\n",
    "            # Subdivide along the other axis\n",
    "\n",
    "            dim = 1 - dim # Works since dim is either 0 or 1\n",
    "\n",
    "            first_set, second_set, separator = self.subdivide_impl(dim)\n",
    "\n",
    "            if len(first_set) == 0 or len(second_set) == 0:\n",
    "                print(first_set)\n",
    "                print(second_set)\n",
    "                raise Exception(\"Subdivision not possible\")\n",
    "\n",
    "    \n",
    "        bounding_box1, bounding_box2 = self.bounding_box.subdivide(dim, separator)\n",
    "\n",
    "        node1 = Node(self, first_set, bounding_box1, points)\n",
    "        node2 = Node(self, second_set, bounding_box2, points)\n",
    "\n",
    "        return [node1, node2]\n",
    "\n",
    "    def expand_to_tree(self, nmin):\n",
    "        \"\"\"Recursively subdivide until each index set of the descendents is smaller than nmin.\"\"\"\n",
    "\n",
    "        if len(self.indices) < nmin:\n",
    "            return\n",
    "\n",
    "        self.children = self.subdivide()\n",
    "        self.children[0].expand_to_tree(nmin)\n",
    "        self.children[1].expand_to_tree(nmin)\n",
    "\n",
    "    def subdivide_impl(self, dim):\n",
    "        \"\"\"Implement the subdividison.\"\"\"\n",
    "\n",
    "        if len(self.indices) < 2:\n",
    "            raise ValueError(\"No further subdivision possible.\")\n",
    "\n",
    "        median = np.median(self.points[dim, self.indices])\n",
    "\n",
    "        first_set = self.indices[self.points[dim, self.indices] < median]\n",
    "        second_set = self.indices[self.points[dim, self.indices] >= median]\n",
    "\n",
    "        return (first_set, second_set, median)\n",
    "\n",
    "    def leafs(self):\n",
    "        \"\"\"Return the leaf descendents of the node.\"\"\"\n",
    "\n",
    "        if self.children is None:\n",
    "            return [self]\n",
    "        else:\n",
    "            return self.children[0].leafs() + self.children[1].leafs()\n",
    "\n",
    "    def depth(self):\n",
    "        \"\"\"Return the depth of the tree from the current node.\"\"\"\n",
    "\n",
    "        if self.children is None:\n",
    "            return 0\n",
    "        else:\n",
    "            return 1 + max(self.children[0].depth(), self.children[1].depth())\n",
    "            \n",
    "\n",
    "\n",
    "\n",
    "\n",
    "        \n",
    "\n",
    "    "
   ]
  },
  {
   "cell_type": "markdown",
   "metadata": {},
   "source": [
    "The following code presents a simple example of how to use the data structures."
   ]
  },
  {
   "cell_type": "code",
   "execution_count": 25,
   "metadata": {},
   "outputs": [
    {
     "name": "stdout",
     "output_type": "stream",
     "text": [
      "Depth: 5\n",
      "Number of leafs: 32\n"
     ]
    }
   ],
   "source": [
    "import numpy as np\n",
    "\n",
    "N = 500\n",
    "nmin = 20\n",
    "\n",
    "points = np.random.rand(2, N)\n",
    "bounding_box = BoundingBox((0.0, 0.0), (1.0, 1.0))\n",
    "root = Node([], np.arange(N), bounding_box, points)\n",
    "\n",
    "root.expand_to_tree(nmin)\n",
    "print(f\"Depth: {root.depth()}\")\n",
    "print(f\"Number of leafs: {len(root.leafs())}\")"
   ]
  },
  {
   "cell_type": "markdown",
   "metadata": {},
   "source": []
  },
  {
   "cell_type": "markdown",
   "metadata": {},
   "source": [
    "In the following we discretise the unit circle, generate the corresponding cluster tree and draw the associated leaf boxes."
   ]
  },
  {
   "cell_type": "code",
   "execution_count": 101,
   "metadata": {},
   "outputs": [],
   "source": [
    "from matplotlib import pyplot as plt\n",
    "%matplotlib inline\n",
    "\n",
    "N = 1001\n",
    "nmin = 10\n",
    "\n",
    "def sphere_points(N):\n",
    "    \"\"\"Create a sphere from N points.\"\"\"\n",
    "    z = np.exp(1j * 2 * np.pi / N * np.arange(N))\n",
    "    points = np.array([np.real(z), np.imag(z)])\n",
    "    return points\n",
    "\n",
    "def draw_patch(lower_left, upper_right, ax):\n",
    "    \"\"\"Helper function to draw a rectangular patch.\"\"\"\n",
    "    from matplotlib.patches import Rectangle\n",
    "\n",
    "    origin = lower_left\n",
    "    width = upper_right[0] - lower_left[0]\n",
    "    height = upper_right[1] - lower_left[1]\n",
    "\n",
    "    ax.add_patch(Rectangle(origin, width, height, linewidth=1, edgecolor='k', fill=False))\n",
    "\n"
   ]
  },
  {
   "cell_type": "code",
   "execution_count": 102,
   "metadata": {},
   "outputs": [],
   "source": [
    "lower_left = (-1.1, -1.1)\n",
    "upper_right = (1.1, 1.1)\n",
    "points = sphere_points(N)"
   ]
  },
  {
   "cell_type": "code",
   "execution_count": 103,
   "metadata": {},
   "outputs": [
    {
     "data": {
      "text/plain": [
       "[<matplotlib.lines.Line2D at 0x12cfb7640>]"
      ]
     },
     "execution_count": 103,
     "metadata": {},
     "output_type": "execute_result"
    },
    {
     "data": {
      "image/png": "[encoded data removed]",
      "text/plain": [
       "<Figure size 720x720 with 1 Axes>"
      ]
     },
     "metadata": {
      "needs_background": "light"
     },
     "output_type": "display_data"
    }
   ],
   "source": [
    "bounding_box = BoundingBox(lower_left, upper_right)\n",
    "root = Node([], np.arange(N), bounding_box, points)\n",
    "root.expand_to_tree(nmin)\n",
    "\n",
    "leafs = root.leafs()\n",
    "\n",
    "fig = plt.figure(figsize=(10, 10))\n",
    "ax = fig.add_subplot(111, aspect='equal')\n",
    "ax.set_xlim(lower_left[0], upper_right[0])\n",
    "ax.set_ylim(lower_left[1], upper_right[1])\n",
    "\n",
    "for leaf in leafs:\n",
    "\n",
    "    lower_left, upper_right = leaf.bounding_box.lower_left, leaf.bounding_box.upper_right\n",
    "    draw_patch(lower_left, upper_right, ax)\n",
    "\n",
    "ax.plot(points[0, :], points[1, :], 'r.')\n",
    "\n",
    "\n",
    "\n"
   ]
  },
  {
   "cell_type": "markdown",
   "metadata": {},
   "source": [
    "The figure demonstrates how the partitioning refines around the circle, attempting to keep similar numbers of points per box. Cluster trees are simple and as shown above, easy to implement. However, their non-uniform structure is not suitable for all types of applications. This is addressed by Octrees."
   ]
  },
  {
   "cell_type": "markdown",
   "metadata": {},
   "source": []
  },
  {
   "cell_type": "markdown",
   "metadata": {},
   "source": [
    "## Octrees\n",
    "\n",
    "An octree (or quadtree in two dimensions) is a regular geometric partitioning. Instead of balancing the number of points per box an Octree/Quadtree subdivides a cube/square into 8/4 identically sized child cube/squares. The advantage is a uniform data structure. The boxes on a given level are all identical, making this structure ideal for methods that rely on this uniformity on each level.\n",
    "\n",
    "We will not go into implementational details here. Even though Octrees/Quadtrees are simple in principle efficient indexing of them is an interesting problem that is solved by Morton encoding, which is based on Z-curve traversals of the tree. This topic leads very much into the realm of computer graphics and associated topics.\n",
    "\n",
    "Below is a simple quadtree implementationt together with the corresponding plot of an adaptive quadtree for the unit circle. More efficient implementations would use the above mentioned techniques based on Morton encoding of boxes.\n",
    "\n"
   ]
  },
  {
   "cell_type": "code",
   "execution_count": 104,
   "metadata": {},
   "outputs": [],
   "source": [
    "class QuadTreeNode:\n",
    "    \"\"\"Store a node of a quadtree.\"\"\"\n",
    "\n",
    "    def __init__(self, parent, indices, lower_left, upper_right, points):\n",
    "        \"\"\"\n",
    "        Initialize a quadtree node with parent and lower left\n",
    "        and upper right corner of associated geometric bounding box.    \n",
    "        \"\"\"\n",
    "\n",
    "        self.lower_left = lower_left\n",
    "        self.upper_right = upper_right\n",
    "        self.parent = parent\n",
    "        self.children = None\n",
    "        self.indices = indices\n",
    "        self.points = points\n",
    "\n",
    "    def expand_to_tree(self, nmin):\n",
    "        \"\"\"Subdivide a node recursively until each box has fewer than nmin indices.\"\"\"\n",
    "\n",
    "        if len(self.indices) < nmin:\n",
    "            return\n",
    "\n",
    "        # Now truly subdivide\n",
    "\n",
    "        xmid = (self.lower_left[0] + self.upper_right[0]) / 2\n",
    "        ymid = (self.lower_left[1] + self.upper_right[1]) / 2\n",
    "\n",
    "        boxes = 4 * [None]\n",
    "\n",
    "        boxes[0] = (self.lower_left, (xmid, ymid))\n",
    "        boxes[1] = ((xmid, self.lower_left[1]), (self.upper_right[0], ymid))\n",
    "        boxes[2] = ((self.lower_left[0], ymid), (xmid, self.upper_right[1]))\n",
    "        boxes[3] = ((xmid, ymid), self.upper_right)\n",
    "\n",
    "        # For each box we need to take the containing points and create the\n",
    "        # corresponding node.\n",
    "\n",
    "        self.children = 4 * [None]\n",
    "\n",
    "        for index, box in enumerate(boxes):\n",
    "\n",
    "            contained = np.ones(len(self.indices), dtype=bool)\n",
    "\n",
    "            contained = contained & (box[0][0] <= self.points[0, self.indices])\n",
    "            contained = contained & (box[0][1] <= self.points[1, self.indices])\n",
    "            contained = contained & (self.points[0, self.indices] < box[1][0])\n",
    "            contained = contained & (self.points[1, self.indices] < box[1][1])\n",
    "\n",
    "            my_indices = self.indices[contained]\n",
    "\n",
    "            self.children[index] = QuadTreeNode(self, my_indices, box[0], box[1], self.points)\n",
    "            self.children[index].expand_to_tree(nmin)\n",
    "\n",
    "        \n",
    "    def leafs(self):\n",
    "        \"\"\"Return the leaf descendents of the node.\"\"\"\n",
    "\n",
    "        if self.children is None:\n",
    "            return [self]\n",
    "        else:\n",
    "            result = []\n",
    "\n",
    "            for index in range(4):\n",
    "                result += self.children[index].leafs()\n",
    "\n",
    "            return result\n",
    "\n",
    "    def depth(self):\n",
    "        \"\"\"Return the depth of the tree from the current node.\"\"\"\n",
    "\n",
    "        if self.children is None:\n",
    "            return 0\n",
    "        else:\n",
    "            return 1 + max([self.children[index].depth() for index in range(4)])\n",
    "\n",
    "\n",
    "\n",
    "\n",
    "\n",
    "\n",
    "\n",
    "\n"
   ]
  },
  {
   "cell_type": "code",
   "execution_count": 93,
   "metadata": {},
   "outputs": [],
   "source": [
    "N = 100\n",
    "nmin = 10\n",
    "\n",
    "z = np.exp(1j * 2 * np.pi / N * np.arange(N))\n",
    "points = np.array([np.real(z), np.imag(z)])\n",
    "lower_left = (-1.1, -1.1)\n",
    "upper_right = (1.1, 1.1)\n",
    "\n",
    "root.expand_to_tree(nmin)\n"
   ]
  },
  {
   "cell_type": "code",
   "execution_count": 96,
   "metadata": {},
   "outputs": [
    {
     "data": {
      "text/plain": [
       "[<matplotlib.lines.Line2D at 0x12cbadf70>]"
      ]
     },
     "execution_count": 96,
     "metadata": {},
     "output_type": "execute_result"
    },
    {
     "data": {
      "image/png": "[encoded data removed]",
      "text/plain": [
       "<Figure size 720x720 with 1 Axes>"
      ]
     },
     "metadata": {
      "needs_background": "light"
     },
     "output_type": "display_data"
    }
   ],
   "source": [
    "from matplotlib import pyplot as plt\n",
    "%matplotlib inline\n",
    "\n",
    "N = 1001\n",
    "nmin = 10\n",
    "\n",
    "z = np.exp(1j * 2 * np.pi / N * np.arange(N))\n",
    "points = np.array([np.real(z), np.imag(z)])\n",
    "lower_left = (-1.1, -1.1)\n",
    "upper_right = (1.1, 1.1)\n",
    "root = QuadTreeNode([], np.arange(N), lower_left, upper_right, points)\n",
    "root.expand_to_tree(nmin)\n",
    "\n",
    "def node_to_patch(node):\n",
    "    \"\"\"Helper function that turns a node into a matplotlib rectangle patch.\"\"\"\n",
    "    from matplotlib.patches import Rectangle\n",
    "\n",
    "    lower_left, upper_right = (node.lower_left, node.upper_right)\n",
    "\n",
    "    origin = lower_left\n",
    "    width = upper_right[0] - lower_left[0]\n",
    "    height = upper_right[1] - lower_left[1]\n",
    "\n",
    "    return Rectangle(origin, width, height, linewidth=1, edgecolor='k', fill=False)\n",
    "\n",
    "leafs = root.leafs()\n",
    "\n",
    "fig = plt.figure(figsize=(10, 10))\n",
    "ax = fig.add_subplot(111, aspect='equal')\n",
    "ax.set_xlim(lower_left[0], upper_right[0])\n",
    "ax.set_ylim(lower_left[1], upper_right[1])\n",
    "\n",
    "for leaf in leafs:\n",
    "    ax.add_patch(\n",
    "        node_to_patch(leaf)\n",
    "    )\n",
    "\n",
    "ax.plot(points[0, :], points[1, :], 'r.')\n",
    "\n"
   ]
  },
  {
   "cell_type": "code",
   "execution_count": null,
   "metadata": {},
   "outputs": [],
   "source": []
  }
 ],
 "metadata": {
  "interpreter": {
   "hash": "d64ff126ff2a1f15b1ec3c82088b080b48e17d0490fbefdb29a9fbcdbca3ee7d"
  },
  "kernelspec": {
   "display_name": "Python 3.9.12 ('dev')",
   "language": "python",
   "name": "python3"
  },
  "language_info": {
   "codemirror_mode": {
    "name": "ipython",
    "version": 3
   },
   "file_extension": ".py",
   "mimetype": "text/x-python",
   "name": "python",
   "nbconvert_exporter": "python",
   "pygments_lexer": "ipython3",
   "version": "3.9.12"
  },
  "orig_nbformat": 4
 },
 "nbformat": 4,
 "nbformat_minor": 2
}
