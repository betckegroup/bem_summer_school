{
 "cells": [
  {
   "cell_type": "markdown",
   "metadata": {},
   "source": [
    "# Tree partitioning\n",
    "\n",
    " In this section we discuss partitioning strategies for our computational domain that let us sort our sources and targets into admissible and non-admissible pairs.\n",
    "\n",
    "Historically, Hierarchical Matrix methods use binary cluster trees to partition the computational domain, and Fast Multipole Methods use partitioning based on Octrees. In the following we will discuss both types of trees.\n",
    "\n",
    "Before we talk about these two types of trees let us remind of the mathematical definition of a tree. We denote a graph as a tuple $G = (V, E)$, where $V$ is a set of vertices, and $E$ is a set of edges, connecting two vertices. We call a graph undirected if the edges have no orientation.\n",
    "\n",
    "In this section we deal with a special type of undirected graph, namely a tree.\n",
    "\n",
    "**Definition** A tree is an undirected graph $(G, E)$ in which any two vertices are connected by a unique simple path (in a simple path all vertices are distinct).\n",
    "\n",
    "We designate one vertex in the tree as root. The parent of a vertex $v$ is the vertex directly connected to the root on the unique path to the root. The children of a verte $v$ are those vertices for which $v$ is a parent. We denote the set of children of $v$ by $\\mathcal{C}(v)$.\n",
    "\n",
    "We say that a vertex is a leaf if it has no children. We denote the set of leafs as $\\mathcal{L}$.\n",
    "\n",
    "\n",
    "The level $\\ell(v)$ of a vertex $v$ is the number of edges on the direct path from $v$ to the root $r$. The root itself has level $0$, its children have level $1$. The depth of a tree is the maximum over all levels in the tree, that is $\\text{depth} := \\max_{v\\in V}\\ell(v)$.\n",
    "\n",
    "For simplicity in this section we assume that we have $N$ points $x_i\\in [0, 1]^d$, $i=1,\\dots, N$, $d=2, 3$. By $J:=\\{1, \\dots, N\\}$ we denote the corresponding index set.\n",
    "\n"
   ]
  },
  {
   "cell_type": "markdown",
   "metadata": {},
   "source": [
    "## Cluster Trees\n",
    "\n"
   ]
  },
  {
   "cell_type": "markdown",
   "metadata": {},
   "source": [
    "A cluster tree is a tree over the index set $J$ in which each vertex $v$ is associated with an index set $J_v\\subset $J$ satisfying the following conditions.\n",
    "\n",
    "\n",
    "- The index set of the root $r$ of the tree is $J$.\n",
    "- For each vertex $v$ that is not a leaf the following two conditions hold\n",
    "    - The index sets of the children of $v$ are disjoint, that is for $c, c'\\in \\mathcal{C}(v)$ and $c\\neq c'$ we have that $J_c\\cap J_{c'} = \\emptyset$.\n",
    "    - The union of the index sets of the children are identical to the index set of the parent, that is $J_v = \\bigcup_{c\\in\\mathcal{C}(v)} J_c$.\n",
    "- For each vertex $v$ that is not a leaf the number of children is larger than one, that is $|\\mathcal{C}(v)| > 1$.\n",
    "- No vertex is associated with the empty set, that is $|J_v| > 0$ for all $v\\in V$."
   ]
  },
  {
   "cell_type": "markdown",
   "metadata": {},
   "source": [
    "In the following we implement simple data structures to construct a cluster tree. We have two classes, a bounding box class that stores geometric bounding boxes, and a Node class that stores an index set, allows subdivision and returns depth and leaf information.\n",
    "\n",
    "The most important part is the subdivision. For subdivision we choose the dimension along which the bounding box is longest. We then compute the mean of the points in the index set along this dimension and separate the points by those who are smaller than the mean and those which are larger. From these we construct two new nodes.\n",
    "\n",
    "There can be the pathological case that all points are aligned along aline. Then this strategy would leave one of the two new index sets empty. In that case we try to subdivide across the other dimension. If that fails as well we raise an exception since in that case all points in the index set are identical.\n",
    "\n",
    "The recursive partitioning proceeds until the children have fewer than a given parameter ``nmin`` indices. This is chosen by the user and determines the depth of the tree."
   ]
  },
  {
   "cell_type": "code",
   "execution_count": 1,
   "metadata": {},
   "outputs": [],
   "source": [
    "import numpy as np"
   ]
  },
  {
   "cell_type": "code",
   "execution_count": 2,
   "metadata": {},
   "outputs": [],
   "source": [
    "class BoundingBox:\n",
    "    \"\"\"Store a bounding box for a two dimensionsal region.\"\"\"\n",
    "\n",
    "    def __init__(self, lower_left, upper_right):\n",
    "        \"\"\"Define a bounding box.\n",
    "        \n",
    "            lower_left and upper_right are tuples of floats that\n",
    "            determine the lower left and upper right corner of the\n",
    "            bounding box.       \n",
    "        \"\"\"\n",
    "\n",
    "        self.lower_left = lower_left\n",
    "        self.upper_right = upper_right\n",
    "\n",
    "    def longest_dimension(self):\n",
    "        \"\"\"Return the longest dimension.\"\"\"\n",
    "\n",
    "        xlen = self.upper_right[0] - self.lower_left[0]\n",
    "        ylen = self.upper_right[1] - self.lower_left[1]\n",
    "\n",
    "        return 0 if xlen >= ylen else 1\n",
    "\n",
    "    def diameter(self):\n",
    "        \"\"\"Diameter of the bounding box.\"\"\"\n",
    "\n",
    "        return max(self.upper_right[1] - self.lower_left[1],\n",
    "                   self.upper_right[0] - self.lower_left[0])\n",
    "\n",
    "    def distance(self, other):\n",
    "        \"\"\"Compute distance to other bounding box.\"\"\"\n",
    "\n",
    "        def interval_distance(a0, a1, b0, b1):\n",
    "            \"\"\"Compute the distance between two intervals (a0, a1), (b0, b1).\"\"\"\n",
    "\n",
    "            if a0 > b1:\n",
    "                return a0 - b1\n",
    "            elif b0 > a1:\n",
    "                return b0 - a1\n",
    "            else:\n",
    "                return 0 \n",
    "\n",
    "            # We compute the distance along each dimension\n",
    "\n",
    "        xmin = self.lower_left[0]\n",
    "        xmax = self.upper_right[0]\n",
    "        ymin = self.lower_left[1]\n",
    "        ymax = self.upper_right[1]\n",
    "\n",
    "        xmin_other = other.lower_left[0]\n",
    "        xmax_other = other.upper_right[0]\n",
    "        ymin_other = other.lower_left[1]\n",
    "        ymax_other = other.upper_right[1]\n",
    "\n",
    "        dist1 = interval_distance(xmin, xmax, xmin_other, xmax_other)\n",
    "        dist2 = interval_distance(ymin, ymax, ymin_other, ymax_other)\n",
    "\n",
    "        return np.sqrt(dist1 * dist1 + dist2 * dist2)\n",
    "        \n",
    "    def subdivide(self, dim, separator):\n",
    "        \"\"\"Subdivide a bounding box along the given dimension.\n",
    "        \n",
    "            The parameter dim is either 0 (x-axis) or 1 (y-axis). The\n",
    "            subdivision proceeds along this axis.\n",
    "\n",
    "            The value separator specifies the point at which to divide up\n",
    "            the bounding box.\n",
    "\n",
    "        \"\"\"\n",
    "\n",
    "        if dim == 0:\n",
    "\n",
    "            lower_left1 = self.lower_left\n",
    "            upper_right1 = (separator, self.upper_right[1])\n",
    "\n",
    "            lower_left2 = (separator, self.lower_left[1])\n",
    "            upper_right2 = self.upper_right\n",
    "\n",
    "        elif dim == 1:\n",
    "\n",
    "            lower_left1 = self.lower_left\n",
    "            upper_right1 = (self.upper_right[0], separator)\n",
    "\n",
    "            lower_left2 = (self.lower_left[0], separator)\n",
    "            upper_right2 = self.upper_right\n",
    "        else:\n",
    "            raise NotImplementedError\n",
    "\n",
    "        return (BoundingBox(lower_left1, upper_right1), \n",
    "                BoundingBox(lower_left2, upper_right2))\n",
    "            "
   ]
  },
  {
   "cell_type": "code",
   "execution_count": 3,
   "metadata": {},
   "outputs": [],
   "source": [
    "class Node:\n",
    "    \"\"\"\n",
    "    Stores information about nodes of a cluster tree and allows\n",
    "    subdivision of a node.\n",
    "    \"\"\"\n",
    "\n",
    "    def __init__(self, parent, indices, bounding_box, points):\n",
    "        \"\"\"\n",
    "        Create a new node with given parent and indices.\n",
    "        \n",
    "        The bounding box has the form [(x_1, y_1), (x_2, y_2)]\n",
    "        denoting the lower left and upper right point defining the\n",
    "        bounding box for the index set.\n",
    "\n",
    "        The variable points stores the original point set as Numpy\n",
    "        array of shape (2, N).\n",
    "        \n",
    "        \"\"\"\n",
    "\n",
    "        self.parent = parent\n",
    "        self.indices = indices\n",
    "        self.children = None\n",
    "        self.bounding_box = bounding_box\n",
    "        self.points = points\n",
    "\n",
    "    def subdivide(self):\n",
    "        \"\"\"Subdivide node along longest dimension.\"\"\"\n",
    "\n",
    "        dim = self.bounding_box.longest_dimension()\n",
    "\n",
    "        first_set, second_set, separator = self.subdivide_impl(dim)\n",
    "\n",
    "        if len(first_set) == 0 or len(second_set) == 0:\n",
    "            # Subdivision along this axis did not work\n",
    "            # Subdivide along the other axis\n",
    "\n",
    "            dim = 1 - dim # Works since dim is either 0 or 1\n",
    "\n",
    "            first_set, second_set, separator = self.subdivide_impl(dim)\n",
    "\n",
    "            if len(first_set) == 0 or len(second_set) == 0:\n",
    "                print(first_set)\n",
    "                print(second_set)\n",
    "                raise Exception(\"Subdivision not possible\")\n",
    "\n",
    "    \n",
    "        bounding_box1, bounding_box2 = self.bounding_box.subdivide(dim, separator)\n",
    "\n",
    "        node1 = Node(self, first_set, bounding_box1, points)\n",
    "        node2 = Node(self, second_set, bounding_box2, points)\n",
    "\n",
    "        return [node1, node2]\n",
    "\n",
    "    def expand_to_tree(self, nmin):\n",
    "        \"\"\"Recursively subdivide until each index set of the descendents is smaller than nmin.\"\"\"\n",
    "\n",
    "        if len(self.indices) < nmin:\n",
    "            return\n",
    "\n",
    "        self.children = self.subdivide()\n",
    "        self.children[0].expand_to_tree(nmin)\n",
    "        self.children[1].expand_to_tree(nmin)\n",
    "\n",
    "    def subdivide_impl(self, dim):\n",
    "        \"\"\"Implement the subdividison.\"\"\"\n",
    "\n",
    "        if len(self.indices) < 2:\n",
    "            raise ValueError(\"No further subdivision possible.\")\n",
    "\n",
    "        median = np.median(self.points[dim, self.indices])\n",
    "\n",
    "        first_set = self.indices[self.points[dim, self.indices] < median]\n",
    "        second_set = self.indices[self.points[dim, self.indices] >= median]\n",
    "\n",
    "        return (first_set, second_set, median)\n",
    "\n",
    "    def leafs(self):\n",
    "        \"\"\"Return the leaf descendents of the node.\"\"\"\n",
    "\n",
    "        if self.children is None:\n",
    "            return [self]\n",
    "        else:\n",
    "            return self.children[0].leafs() + self.children[1].leafs()\n",
    "\n",
    "    def depth(self):\n",
    "        \"\"\"Return the depth of the tree from the current node.\"\"\"\n",
    "\n",
    "        if self.children is None:\n",
    "            return 0\n",
    "        else:\n",
    "            return 1 + max(self.children[0].depth(), self.children[1].depth())\n",
    "            \n",
    "    "
   ]
  },
  {
   "cell_type": "markdown",
   "metadata": {},
   "source": []
  },
  {
   "cell_type": "markdown",
   "metadata": {},
   "source": [
    "In the following we discretise the unit circle, generate the corresponding cluster tree and draw the associated leaf boxes."
   ]
  },
  {
   "cell_type": "code",
   "execution_count": 4,
   "metadata": {},
   "outputs": [],
   "source": [
    "from matplotlib import pyplot as plt\n",
    "%matplotlib inline\n",
    "\n",
    "def sphere_points(N):\n",
    "    \"\"\"Create a sphere from N points.\"\"\"\n",
    "    z = np.exp(1j * 2 * np.pi / N * np.arange(N))\n",
    "    points = np.array([np.real(z), np.imag(z)])\n",
    "    return points\n",
    "\n",
    "def draw_patch(lower_left, upper_right, ax):\n",
    "    \"\"\"Helper function to draw a rectangular patch.\"\"\"\n",
    "    from matplotlib.patches import Rectangle\n",
    "\n",
    "    origin = lower_left\n",
    "    width = upper_right[0] - lower_left[0]\n",
    "    height = upper_right[1] - lower_left[1]\n",
    "\n",
    "    ax.add_patch(Rectangle(origin, width, height, linewidth=1, edgecolor='k', fill=False))\n",
    "\n"
   ]
  },
  {
   "cell_type": "code",
   "execution_count": 5,
   "metadata": {},
   "outputs": [],
   "source": [
    "N = 1001\n",
    "nmin = 20\n",
    "\n",
    "lower_left = (-1.1, -1.1)\n",
    "upper_right = (1.1, 1.1)\n",
    "points = sphere_points(N)"
   ]
  },
  {
   "cell_type": "code",
   "execution_count": 6,
   "metadata": {},
   "outputs": [
    {
     "data": {
      "text/plain": [
       "[<matplotlib.lines.Line2D at 0x10f9c38e0>]"
      ]
     },
     "execution_count": 6,
     "metadata": {},
     "output_type": "execute_result"
    },
    {
     "data": {
      "image/png": "[encoded data removed]",
      "text/plain": [
       "<Figure size 720x720 with 1 Axes>"
      ]
     },
     "metadata": {
      "needs_background": "light"
     },
     "output_type": "display_data"
    }
   ],
   "source": [
    "import numpy as np\n",
    "\n",
    "bounding_box = BoundingBox(lower_left, upper_right)\n",
    "root = Node([], np.arange(N), bounding_box, points)\n",
    "root.expand_to_tree(nmin)\n",
    "\n",
    "leafs = root.leafs()\n",
    "\n",
    "fig = plt.figure(figsize=(10, 10))\n",
    "ax = fig.add_subplot(111, aspect='equal')\n",
    "ax.set_xlim(lower_left[0], upper_right[0])\n",
    "ax.set_ylim(lower_left[1], upper_right[1])\n",
    "\n",
    "for leaf in leafs:\n",
    "\n",
    "    lower_left, upper_right = leaf.bounding_box.lower_left, leaf.bounding_box.upper_right\n",
    "    draw_patch(lower_left, upper_right, ax)\n",
    "\n",
    "ax.plot(points[0, :], points[1, :], 'r.')\n",
    "\n",
    "\n",
    "\n"
   ]
  },
  {
   "cell_type": "markdown",
   "metadata": {},
   "source": [
    "The figure demonstrates how the partitioning refines around the circle, attempting to keep similar numbers of points per box. Cluster trees are simple and as shown above, easy to implement. However, their non-uniform structure is not suitable for all types of applications. This is addressed by Octrees."
   ]
  },
  {
   "cell_type": "markdown",
   "metadata": {},
   "source": []
  },
  {
   "cell_type": "markdown",
   "metadata": {},
   "source": [
    "## Octrees\n",
    "\n",
    "An octree (or quadtree in two dimensions) is a regular geometric partitioning. Instead of balancing the number of points per box an Octree/Quadtree subdivides a cube/square into 8/4 identically sized child cube/squares. The advantage is a uniform data structure. The boxes on a given level are all identical, making this structure ideal for methods that rely on this uniformity on each level.\n",
    "\n",
    "We will not go into implementational details here. Even though Octrees/Quadtrees are simple in principle efficient indexing of them is an interesting problem that is solved by Morton encoding, which is based on Z-curve traversals of the tree. This topic leads very much into the realm of computer graphics and associated topics.\n",
    "\n",
    "Below is a simple quadtree implementationt together with the corresponding plot of an adaptive quadtree for the unit circle. More efficient implementations would use the above mentioned techniques based on Morton encoding of boxes.\n",
    "\n"
   ]
  },
  {
   "cell_type": "code",
   "execution_count": 7,
   "metadata": {},
   "outputs": [],
   "source": [
    "class QuadTreeNode:\n",
    "    \"\"\"Store a node of a quadtree.\"\"\"\n",
    "\n",
    "    def __init__(self, parent, indices, lower_left, upper_right, points):\n",
    "        \"\"\"\n",
    "        Initialize a quadtree node with parent and lower left\n",
    "        and upper right corner of associated geometric bounding box.    \n",
    "        \"\"\"\n",
    "\n",
    "        self.lower_left = lower_left\n",
    "        self.upper_right = upper_right\n",
    "        self.parent = parent\n",
    "        self.children = None\n",
    "        self.indices = indices\n",
    "        self.points = points\n",
    "\n",
    "    def expand_to_tree(self, nmin):\n",
    "        \"\"\"Subdivide a node recursively until each box has fewer than nmin indices.\"\"\"\n",
    "\n",
    "        if len(self.indices) < nmin:\n",
    "            return\n",
    "\n",
    "        # Now truly subdivide\n",
    "\n",
    "        xmid = (self.lower_left[0] + self.upper_right[0]) / 2\n",
    "        ymid = (self.lower_left[1] + self.upper_right[1]) / 2\n",
    "\n",
    "        boxes = 4 * [None]\n",
    "\n",
    "        boxes[0] = (self.lower_left, (xmid, ymid))\n",
    "        boxes[1] = ((xmid, self.lower_left[1]), (self.upper_right[0], ymid))\n",
    "        boxes[2] = ((self.lower_left[0], ymid), (xmid, self.upper_right[1]))\n",
    "        boxes[3] = ((xmid, ymid), self.upper_right)\n",
    "\n",
    "        # For each box we need to take the containing points and create the\n",
    "        # corresponding node.\n",
    "\n",
    "        self.children = 4 * [None]\n",
    "\n",
    "        for index, box in enumerate(boxes):\n",
    "\n",
    "            contained = np.ones(len(self.indices), dtype=bool)\n",
    "\n",
    "            contained = contained & (box[0][0] <= self.points[0, self.indices])\n",
    "            contained = contained & (box[0][1] <= self.points[1, self.indices])\n",
    "            contained = contained & (self.points[0, self.indices] < box[1][0])\n",
    "            contained = contained & (self.points[1, self.indices] < box[1][1])\n",
    "\n",
    "            my_indices = self.indices[contained]\n",
    "\n",
    "            self.children[index] = QuadTreeNode(self, my_indices, box[0], box[1], self.points)\n",
    "            self.children[index].expand_to_tree(nmin)\n",
    "\n",
    "        \n",
    "    def leafs(self):\n",
    "        \"\"\"Return the leaf descendents of the node.\"\"\"\n",
    "\n",
    "        if self.children is None:\n",
    "            return [self]\n",
    "        else:\n",
    "            result = []\n",
    "\n",
    "            for index in range(4):\n",
    "                result += self.children[index].leafs()\n",
    "\n",
    "            return result\n",
    "\n",
    "    def depth(self):\n",
    "        \"\"\"Return the depth of the tree from the current node.\"\"\"\n",
    "\n",
    "        if self.children is None:\n",
    "            return 0\n",
    "        else:\n",
    "            return 1 + max([self.children[index].depth() for index in range(4)])\n",
    "\n",
    "\n",
    "\n",
    "\n",
    "\n",
    "\n",
    "\n",
    "\n"
   ]
  },
  {
   "cell_type": "code",
   "execution_count": 10,
   "metadata": {},
   "outputs": [
    {
     "data": {
      "text/plain": [
       "[<matplotlib.lines.Line2D at 0x10fdb2d30>]"
      ]
     },
     "execution_count": 10,
     "metadata": {},
     "output_type": "execute_result"
    },
    {
     "data": {
      "image/png": "[encoded data removed]",
      "text/plain": [
       "<Figure size 720x720 with 1 Axes>"
      ]
     },
     "metadata": {
      "needs_background": "light"
     },
     "output_type": "display_data"
    }
   ],
   "source": [
    "from matplotlib import pyplot as plt\n",
    "%matplotlib inline\n",
    "\n",
    "N = 1001\n",
    "nmin = 20\n",
    "\n",
    "lower_left = (-1.1, -1.1)\n",
    "upper_right = (1.1, 1.1)\n",
    "points = sphere_points(N)\n",
    "\n",
    "root = QuadTreeNode([], np.arange(N), lower_left, upper_right, points)\n",
    "root.expand_to_tree(nmin)\n",
    "\n",
    "def node_to_patch(node):\n",
    "    \"\"\"Helper function that turns a node into a matplotlib rectangle patch.\"\"\"\n",
    "    from matplotlib.patches import Rectangle\n",
    "\n",
    "    lower_left, upper_right = (node.lower_left, node.upper_right)\n",
    "\n",
    "    origin = lower_left\n",
    "    width = upper_right[0] - lower_left[0]\n",
    "    height = upper_right[1] - lower_left[1]\n",
    "\n",
    "    return Rectangle(origin, width, height, linewidth=1, edgecolor='k', fill=False)\n",
    "\n",
    "leafs = root.leafs()\n",
    "\n",
    "fig = plt.figure(figsize=(10, 10))\n",
    "ax = fig.add_subplot(111, aspect='equal')\n",
    "ax.set_xlim(lower_left[0], upper_right[0])\n",
    "ax.set_ylim(lower_left[1], upper_right[1])\n",
    "\n",
    "for leaf in leafs:\n",
    "    ax.add_patch(\n",
    "        node_to_patch(leaf)\n",
    "    )\n",
    "\n",
    "ax.plot(points[0, :], points[1, :], 'r.')\n",
    "\n"
   ]
  },
  {
   "cell_type": "code",
   "execution_count": 9,
   "metadata": {},
   "outputs": [
    {
     "data": {
      "text/plain": [
       "64"
      ]
     },
     "execution_count": 9,
     "metadata": {},
     "output_type": "execute_result"
    }
   ],
   "source": [
    "len(root.leafs())"
   ]
  },
  {
   "cell_type": "markdown",
   "metadata": {},
   "source": [
    "The advantage of octrees/quadtrees is visible. The data structure is uniform. However, we create more children than in a simple binary cluster tree. Traditionally octrees/quadtrees are used for Fast Multipole type methods and binary cluster trees are used for Hierarchical Matrices."
   ]
  },
  {
   "cell_type": "markdown",
   "metadata": {},
   "source": [
    "## Block-Cluster Trees"
   ]
  },
  {
   "cell_type": "markdown",
   "metadata": {},
   "source": [
    "Recall the Green's function interaction matrix $G$ defined by $G[i, j] = g(x_i, y_j)$, where the $x_i$ are targets and the $y_j$ are sources. A cluster tree or octree/quadtree gives us a recursive partitioning of the sources and targets. But it does not yet give us information about which interactions between sources and targets satisfy an admissibility condition. This is solved by Block-Cluster Trees.\n",
    "\n",
    "Let $I$ and $J$ by index sets with corresponding cluster trees $T_I$ and $T_J$. Each node $v$ of the block-cluster tree is identified with the direct product $\\tau\\times\\nu$ of nodes $\\tau$ of $T_I$ and $\\nu$ of $T_J$. The corresponding index set is the cross-product $I_\\tau\\times J_\\nu$.\n",
    "\n",
    "\n",
    "We create a block-cluster tree $T_{I\\times J}$ as follows.\n",
    "\n",
    "- The root of the tree is the cross product of the roots of $T_I$ and $T_J$.\n",
    "- Let $v$ be a node of $T_{I\\times J}$ identified with the cross-product $\\tau\\times\\nu$ of nodes $\\tau$ of $T_I$ and $\\nu$ of $T_J$, and index set $I_\\tau\\times J_\\nu$.\n",
    "  - It is a leaf if $I_\\tau\\times J_\\nu$ satisfies an admissibility condition or if one of the sets of children $\\mathcal{C}(\\tau)$ or $\\mathcal{C}(\\nu)$ is empty.\n",
    "  - If $v$ is not a leaf then its children are defined through $\\mathcal{C}(v) := \\{\\tau'\\times \\nu': \\tau'\\in\\mathcal{C}(\\tau), \\nu'\\in\\mathcal{C}(\\nu)\\}$, that is the children of $v$ are defined as the cross-products of the children of $\\tau$ and $\\nu$.\n",
    "\n",
    "\n",
    "How do we check if an index set $\\I_\\tau\\times $J_\\nu$ satisfies an admissibility condition?\n",
    "\n",
    "For a source set $Y$ and a target set $X$ we defined earlier the admissibility condition\n",
    "\n",
    "$$\n",
    "\\min \\{\\text{diam}(X), \\text{diam}(Y)\\} \\leq \\eta\\, \\text{dist}(X, Y).\n",
    "$$\n",
    "\n",
    "In our tree algorithms we use bounding boxes associated with points contained in them. Hence, instead of checking the admissibility condition pointwise, we simply evaluate the diameter and distance of the associated bounding boxes.\n",
    "\n",
    "In the following we want to implement a simple block-clustering algorithm. Each node of the block-cluster tree will store the tuple of the corresponding nodes of the source and target tree."
   ]
  },
  {
   "cell_type": "code",
   "execution_count": 34,
   "metadata": {},
   "outputs": [],
   "source": [
    "class BlockClusterNode:\n",
    "    \"\"\"Node of a block cluster tree.\"\"\"\n",
    "\n",
    "    def __init__(self, source_node, target_node, eta):\n",
    "        \"\"\"\n",
    "        Define the node of a block-cluster tree.\n",
    "\n",
    "        source_node and target_node are nodes from the source and\n",
    "        target tree. \n",
    "\n",
    "        The parameter eta is the tolerance in the admissibility condition.\n",
    "\n",
    "        \"\"\"\n",
    "\n",
    "        self.source_node = source_node\n",
    "        self.target_node = target_node\n",
    "        self.eta = eta\n",
    "        self.children = None\n",
    "\n",
    "        source_diam = source_node.bounding_box.diameter()\n",
    "        target_diam = target_node.bounding_box.diameter()\n",
    "\n",
    "        dist = source_node.bounding_box.distance(target_node.bounding_box)\n",
    "        self.is_admissible = min(source_diam, target_diam) <= eta * dist\n",
    "\n",
    "    def expand_to_tree(self):\n",
    "        \"\"\"Expand node to a tree.\"\"\"\n",
    "\n",
    "        if self.is_admissible:\n",
    "            return\n",
    "\n",
    "        if self.source_node.children is None:\n",
    "            return\n",
    "\n",
    "        if self.target_node.children is None:\n",
    "            return\n",
    "\n",
    "        self.children = []\n",
    "\n",
    "        for source_child in self.source_node.children:\n",
    "            for target_child in self.target_node.children:\n",
    "                new_child = BlockClusterNode(source_child, target_child, self.eta)\n",
    "                self.children.append(\n",
    "                    new_child\n",
    "                )\n",
    "                new_child.expand_to_tree()\n",
    "\n",
    "\n",
    "    def leafs(self):\n",
    "        \"\"\"Return the leaf descendents of the node.\"\"\"\n",
    "\n",
    "        if self.children is None:\n",
    "            return [self]\n",
    "        else:\n",
    "            result = []\n",
    "\n",
    "            for index in range(4):\n",
    "                result += self.children[index].leafs()\n",
    "\n",
    "            return result\n",
    "\n",
    "    def depth(self):\n",
    "        \"\"\"Return the depth of the tree from the current node.\"\"\"\n",
    "\n",
    "        if self.children is None:\n",
    "            return 0\n",
    "        else:\n",
    "            return 1 + max([self.children[index].depth() for index in range(4)])\n",
    "\n",
    "        \n",
    "\n",
    "\n"
   ]
  },
  {
   "cell_type": "code",
   "execution_count": 44,
   "metadata": {},
   "outputs": [
    {
     "ename": "KeyboardInterrupt",
     "evalue": "",
     "output_type": "error",
     "traceback": [
      "\u001b[0;31m---------------------------------------------------------------------------\u001b[0m",
      "\u001b[0;31mKeyboardInterrupt\u001b[0m                         Traceback (most recent call last)",
      "\u001b[1;32m/Users/betcke/projects/bem_summer_school/bem_summer_school/partitioning.ipynb Cell 23'\u001b[0m in \u001b[0;36m<cell line: 33>\u001b[0;34m()\u001b[0m\n\u001b[1;32m     <a href='vscode-notebook-cell:/Users/betcke/projects/bem_summer_school/bem_summer_school/partitioning.ipynb#ch0000043?line=29'>30</a>\u001b[0m             \u001b[39mfor\u001b[39;00m child \u001b[39min\u001b[39;00m node\u001b[39m.\u001b[39mchildren:\n\u001b[1;32m     <a href='vscode-notebook-cell:/Users/betcke/projects/bem_summer_school/bem_summer_school/partitioning.ipynb#ch0000043?line=30'>31</a>\u001b[0m                 permute_indices(child, permutation)\n\u001b[0;32m---> <a href='vscode-notebook-cell:/Users/betcke/projects/bem_summer_school/bem_summer_school/partitioning.ipynb#ch0000043?line=32'>33</a>\u001b[0m permute_indices(root, permutation)\n\u001b[1;32m     <a href='vscode-notebook-cell:/Users/betcke/projects/bem_summer_school/bem_summer_school/partitioning.ipynb#ch0000043?line=34'>35</a>\u001b[0m block_cluster_root \u001b[39m=\u001b[39m BlockClusterNode(root, root, \u001b[39m1.2\u001b[39m)\n\u001b[1;32m     <a href='vscode-notebook-cell:/Users/betcke/projects/bem_summer_school/bem_summer_school/partitioning.ipynb#ch0000043?line=35'>36</a>\u001b[0m block_cluster_root\u001b[39m.\u001b[39mexpand_to_tree()\n",
      "\u001b[1;32m/Users/betcke/projects/bem_summer_school/bem_summer_school/partitioning.ipynb Cell 23'\u001b[0m in \u001b[0;36mpermute_indices\u001b[0;34m(node, permutation)\u001b[0m\n\u001b[1;32m     <a href='vscode-notebook-cell:/Users/betcke/projects/bem_summer_school/bem_summer_school/partitioning.ipynb#ch0000043?line=28'>29</a>\u001b[0m \u001b[39mif\u001b[39;00m node\u001b[39m.\u001b[39mchildren \u001b[39mis\u001b[39;00m \u001b[39mnot\u001b[39;00m \u001b[39mNone\u001b[39;00m:\n\u001b[1;32m     <a href='vscode-notebook-cell:/Users/betcke/projects/bem_summer_school/bem_summer_school/partitioning.ipynb#ch0000043?line=29'>30</a>\u001b[0m     \u001b[39mfor\u001b[39;00m child \u001b[39min\u001b[39;00m node\u001b[39m.\u001b[39mchildren:\n\u001b[0;32m---> <a href='vscode-notebook-cell:/Users/betcke/projects/bem_summer_school/bem_summer_school/partitioning.ipynb#ch0000043?line=30'>31</a>\u001b[0m         permute_indices(child, permutation)\n",
      "\u001b[1;32m/Users/betcke/projects/bem_summer_school/bem_summer_school/partitioning.ipynb Cell 23'\u001b[0m in \u001b[0;36mpermute_indices\u001b[0;34m(node, permutation)\u001b[0m\n\u001b[1;32m     <a href='vscode-notebook-cell:/Users/betcke/projects/bem_summer_school/bem_summer_school/partitioning.ipynb#ch0000043?line=28'>29</a>\u001b[0m \u001b[39mif\u001b[39;00m node\u001b[39m.\u001b[39mchildren \u001b[39mis\u001b[39;00m \u001b[39mnot\u001b[39;00m \u001b[39mNone\u001b[39;00m:\n\u001b[1;32m     <a href='vscode-notebook-cell:/Users/betcke/projects/bem_summer_school/bem_summer_school/partitioning.ipynb#ch0000043?line=29'>30</a>\u001b[0m     \u001b[39mfor\u001b[39;00m child \u001b[39min\u001b[39;00m node\u001b[39m.\u001b[39mchildren:\n\u001b[0;32m---> <a href='vscode-notebook-cell:/Users/betcke/projects/bem_summer_school/bem_summer_school/partitioning.ipynb#ch0000043?line=30'>31</a>\u001b[0m         permute_indices(child, permutation)\n",
      "    \u001b[0;31m[... skipping similar frames: permute_indices at line 31 (1 times)]\u001b[0m\n",
      "\u001b[1;32m/Users/betcke/projects/bem_summer_school/bem_summer_school/partitioning.ipynb Cell 23'\u001b[0m in \u001b[0;36mpermute_indices\u001b[0;34m(node, permutation)\u001b[0m\n\u001b[1;32m     <a href='vscode-notebook-cell:/Users/betcke/projects/bem_summer_school/bem_summer_school/partitioning.ipynb#ch0000043?line=28'>29</a>\u001b[0m \u001b[39mif\u001b[39;00m node\u001b[39m.\u001b[39mchildren \u001b[39mis\u001b[39;00m \u001b[39mnot\u001b[39;00m \u001b[39mNone\u001b[39;00m:\n\u001b[1;32m     <a href='vscode-notebook-cell:/Users/betcke/projects/bem_summer_school/bem_summer_school/partitioning.ipynb#ch0000043?line=29'>30</a>\u001b[0m     \u001b[39mfor\u001b[39;00m child \u001b[39min\u001b[39;00m node\u001b[39m.\u001b[39mchildren:\n\u001b[0;32m---> <a href='vscode-notebook-cell:/Users/betcke/projects/bem_summer_school/bem_summer_school/partitioning.ipynb#ch0000043?line=30'>31</a>\u001b[0m         permute_indices(child, permutation)\n",
      "\u001b[1;32m/Users/betcke/projects/bem_summer_school/bem_summer_school/partitioning.ipynb Cell 23'\u001b[0m in \u001b[0;36mpermute_indices\u001b[0;34m(node, permutation)\u001b[0m\n\u001b[1;32m     <a href='vscode-notebook-cell:/Users/betcke/projects/bem_summer_school/bem_summer_school/partitioning.ipynb#ch0000043?line=25'>26</a>\u001b[0m \u001b[39mfor\u001b[39;00m i, value \u001b[39min\u001b[39;00m \u001b[39menumerate\u001b[39m(node\u001b[39m.\u001b[39mindices):\n\u001b[1;32m     <a href='vscode-notebook-cell:/Users/betcke/projects/bem_summer_school/bem_summer_school/partitioning.ipynb#ch0000043?line=26'>27</a>\u001b[0m     node\u001b[39m.\u001b[39mindices[i] \u001b[39m=\u001b[39m permutation[value]\n\u001b[0;32m---> <a href='vscode-notebook-cell:/Users/betcke/projects/bem_summer_school/bem_summer_school/partitioning.ipynb#ch0000043?line=28'>29</a>\u001b[0m     \u001b[39mif\u001b[39;00m node\u001b[39m.\u001b[39;49mchildren \u001b[39mis\u001b[39;00m \u001b[39mnot\u001b[39;00m \u001b[39mNone\u001b[39;00m:\n\u001b[1;32m     <a href='vscode-notebook-cell:/Users/betcke/projects/bem_summer_school/bem_summer_school/partitioning.ipynb#ch0000043?line=29'>30</a>\u001b[0m         \u001b[39mfor\u001b[39;00m child \u001b[39min\u001b[39;00m node\u001b[39m.\u001b[39mchildren:\n\u001b[1;32m     <a href='vscode-notebook-cell:/Users/betcke/projects/bem_summer_school/bem_summer_school/partitioning.ipynb#ch0000043?line=30'>31</a>\u001b[0m             permute_indices(child, permutation)\n",
      "\u001b[0;31mKeyboardInterrupt\u001b[0m: "
     ]
    }
   ],
   "source": [
    "N = 100\n",
    "nmin = 10\n",
    "\n",
    "lower_left = (-1.1, -1.1)\n",
    "upper_right = (1.1, 1.1)\n",
    "points = sphere_points(N)\n",
    "\n",
    "N = points.shape[1]\n",
    "eta = 1.2\n",
    "\n",
    "bounding_box = BoundingBox(lower_left, upper_right)\n",
    "root = Node([], np.arange(N), bounding_box, points)\n",
    "root.expand_to_tree(nmin)\n",
    "\n",
    "leafs = root.leafs()\n",
    "\n",
    "permutation = np.zeros(N, dtype=np.int64)\n",
    "count = 0\n",
    "for leaf in leafs:\n",
    "    for i, value in enumerate(leaf.indices):\n",
    "        permutation[value] = count\n",
    "        count += 1\n",
    "\n",
    "def permute_indices(node, permutation):\n",
    "\n",
    "    for i, value in enumerate(node.indices):\n",
    "        node.indices[i] = permutation[value]\n",
    "\n",
    "    if node.children is not None:\n",
    "        for child in node.children:\n",
    "            permute_indices(child, permutation)\n",
    "\n",
    "permute_indices(root, permutation)\n",
    "\n",
    "block_cluster_root = BlockClusterNode(root, root, 1.2)\n",
    "block_cluster_root.expand_to_tree()\n",
    "\n",
    "block_cluster_leafs = block_cluster_root.leafs()\n",
    "\n",
    "def draw_block_cluster_patch(node, ax):\n",
    "    \"\"\"Helper function to draw a rectangular patch.\"\"\"\n",
    "    from matplotlib.patches import Rectangle\n",
    "\n",
    "    source_indices = node.source_node.indices\n",
    "    target_indices = node.target_node.indices\n",
    "\n",
    "    width = source_indices[-1] - source_indices[0]\n",
    "    height = target_indices[-1] - target_indices[0]\n",
    "\n",
    "    if width > 8 and height > 8:\n",
    "        print(source_indices)\n",
    "\n",
    "    origin = (source_indices[0], target_indices[0])\n",
    "\n",
    "    if node.is_admissible:\n",
    "        fc = 'g'\n",
    "    else:\n",
    "        fc = 'r'\n",
    "\n",
    "\n",
    "    ax.add_patch(Rectangle(origin, width, height, linewidth=1, edgecolor='k', fc=fc, fill=True))\n",
    "\n",
    "fig = plt.figure(figsize=(10, 10))\n",
    "ax = fig.add_subplot(111, aspect='equal')\n",
    "ax.set_xlim(0, N - 1)\n",
    "ax.set_ylim(0, N - 1)\n",
    "\n",
    "for index, leaf in enumerate(block_cluster_leafs):\n",
    "    draw_block_cluster_patch(leaf, ax)\n",
    "\n"
   ]
  },
  {
   "cell_type": "code",
   "execution_count": 36,
   "metadata": {},
   "outputs": [],
   "source": [
    "for leaf in block_cluster_leafs:\n",
    "    if leaf.source_node.indices[0] == 0 and leaf.target_node.indices[-1] == 1000:\n",
    "        print(\"Here\")"
   ]
  },
  {
   "cell_type": "code",
   "execution_count": 155,
   "metadata": {},
   "outputs": [
    {
     "data": {
      "text/plain": [
       "array([351, 352, 353, 354, 355, 356, 357, 358])"
      ]
     },
     "execution_count": 155,
     "metadata": {},
     "output_type": "execute_result"
    }
   ],
   "source": [
    "leaf.source_node.indices"
   ]
  },
  {
   "cell_type": "code",
   "execution_count": 156,
   "metadata": {},
   "outputs": [
    {
     "data": {
      "text/plain": [
       "array([335, 336, 337, 338, 339, 340, 341, 342])"
      ]
     },
     "execution_count": 156,
     "metadata": {},
     "output_type": "execute_result"
    }
   ],
   "source": [
    "leaf.target_node.indices"
   ]
  },
  {
   "cell_type": "code",
   "execution_count": 43,
   "metadata": {},
   "outputs": [
    {
     "data": {
      "text/plain": [
       "0"
      ]
     },
     "execution_count": 43,
     "metadata": {},
     "output_type": "execute_result"
    }
   ],
   "source": [
    "root.indices[0]"
   ]
  },
  {
   "cell_type": "code",
   "execution_count": null,
   "metadata": {},
   "outputs": [],
   "source": []
  }
 ],
 "metadata": {
  "interpreter": {
   "hash": "d64ff126ff2a1f15b1ec3c82088b080b48e17d0490fbefdb29a9fbcdbca3ee7d"
  },
  "kernelspec": {
   "display_name": "Python 3.9.12 ('dev')",
   "language": "python",
   "name": "python3"
  },
  "language_info": {
   "codemirror_mode": {
    "name": "ipython",
    "version": 3
   },
   "file_extension": ".py",
   "mimetype": "text/x-python",
   "name": "python",
   "nbconvert_exporter": "python",
   "pygments_lexer": "ipython3",
   "version": "3.9.12"
  },
  "orig_nbformat": 4
 },
 "nbformat": 4,
 "nbformat_minor": 2
}
