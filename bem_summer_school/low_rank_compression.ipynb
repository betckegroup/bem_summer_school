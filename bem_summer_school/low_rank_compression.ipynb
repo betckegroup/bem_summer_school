{
 "cells": [
  {
   "cell_type": "markdown",
   "metadata": {},
   "source": [
    "# Low rank compressibility"
   ]
  },
  {
   "cell_type": "markdown",
   "metadata": {},
   "source": [
    "## A reminder of the Singular Value Decomposition\n",
    "\n",
    "Let $A\\in\\mathbb{C}^{m\\times n}$. Then $A$ has a singular value decomposition of the form\n",
    "\n",
    "$$\n",
    "A = U\\Sigma V^H\n",
    "$$\n",
    "\n",
    "with $U\\in\\mathbb{C}^{m\\times m}$, $V\\in\\mathbb{n\\times n}$ unitary, that is $U^HU=I$ and $V^HV=I$.\n",
    "\n",
    "The matrix $\\Sigma\\in\\mathbb{R}^{m\\times n}$ is a diagonal matrix with diagonal elements\n",
    "\n",
    "$\\sigma_1\\geq \\sigma_2\\dots \\geq \\sigma_r > 0$. Here $r$ is the rank of the matrix. From now on we assume\n",
    "that $r = \\min\\{m, n\\}$."
   ]
  },
  {
   "cell_type": "markdown",
   "metadata": {},
   "source": [
    "## Low-rank approximations\n",
    "\n",
    "Let $A\\in\\mathbb{C}^{m\\times n}$. If \n",
    "\n",
    "$$\n",
    "M\\approx CZ^H \n",
    "$$\n",
    "\n",
    "for $C, Z\\in\\mathbb{C}^{m\\times k}$ with $k\\ll \\min\\{m, n\\}$\n",
    "\n",
    "we say that $A$ has a low-rank approximation of rank $k$.\n"
   ]
  },
  {
   "cell_type": "markdown",
   "metadata": {},
   "source": [
    "### Why are low-rank approximations useful?\n",
    "\n",
    "Let $A\\in\\mathbb{C}^{n\\times n}$ and assume $A$ has a \n",
    "low-rank approximation $A=CZ^H$ of rank $k$.\n",
    "\n",
    "$A$ has $\\mathcal{O}(n^2)$ storage cost and also $\\mathcal{O}(n^2)$\n",
    "for a matvec (matrix-vector product).\n",
    "\n",
    "$CZ^H$ has $\\mathcal{O}(nk)$ storage cost and also $\\mathcal{O}(nk)$\n",
    "cost for a matvec.\n",
    "\n",
    "*If k is independent of $n$ then the cost of the low-rank expansion\n",
    "scales linearly in $n$*.\n"
   ]
  },
  {
   "cell_type": "markdown",
   "metadata": {},
   "source": [
    "## The SVD is the best possible low-rank approximation\n",
    "\n",
    "Let $A \\in \\mathbb{C}^{m\\times n}$ with SVD $A=U\\Sigma V^H$.\n",
    "\n",
    "Then $A_k = \\sum_{j=1}^k \\sigma_j u_jv_j^H$ is the best possible\n",
    "approximation to $A$ in the sense that\n",
    "\n",
    "$$\n",
    "\\sigma_{k+1} = \\|A - A_k\\|_2 \\leq \\|A-F\\|_2\n",
    "$$\n",
    "\n",
    "for every matrix $F\\in\\mathbb{C}^{m\\times n}$ of rank at most $k$.\n",
    "\n",
    "We will later learn about heuristic techniques to efficiently compute low-rank approximations\n",
    "without relying on the expensive SVD."
   ]
  },
  {
   "cell_type": "markdown",
   "metadata": {},
   "source": [
    "## Low-Rank Compressibility of Green's functions.\n",
    "\n",
    "Let $g(x, y) = \\frac{1}{4\\pi|x -y|}$ be the usual Laplace Green's function in three dimensions.\n",
    "\n",
    "Let $Y\\subset \\mathbb{R}^3$ be a set of sources and $X\\in\\mathbb{R}^3$ be a set of targets. We assume that $X$ and $Y$ are well separated (we will make this more precise later).\n",
    "\n",
    "Let $x_i\\in X$ and $y_j\\in Y$ with $i, j=1,\\dots, N$. Denote by $G$ the matrix of interactions defined by\n",
    "\n",
    "$$\n",
    "g_{ij} = g(x_i, y_j).\n",
    "$$\n",
    "\n",
    "As long as $X$ and $Y$ are well separated $G$ can be well approximated by a low-rank matrix."
   ]
  },
  {
   "cell_type": "code",
   "execution_count": 23,
   "metadata": {},
   "outputs": [
    {
     "data": {
      "text/plain": [
       "Text(0, 0.5, '$\\\\sigma_k$')"
      ]
     },
     "execution_count": 23,
     "metadata": {},
     "output_type": "execute_result"
    },
    {
     "data": {
      "image/png": "[encoded data removed]",
      "text/plain": [
       "<Figure size 720x576 with 1 Axes>"
      ]
     },
     "metadata": {
      "needs_background": "light"
     },
     "output_type": "display_data"
    }
   ],
   "source": [
    "import numpy as np\n",
    "from scipy.linalg import svdvals\n",
    "from matplotlib import pyplot as plt\n",
    "\n",
    "%matplotlib inline\n",
    "\n",
    "plt.rcParams['figure.figsize'] = [10, 8]\n",
    "\n",
    "dist = 2.0\n",
    "N = 100\n",
    "\n",
    "targets = np.random.rand(3, N)\n",
    "sources = np.random.rand(3, N) + dist * np.eye(3, 1)\n",
    "\n",
    "G = np.zeros((N, N), dtype=np.float64)\n",
    "\n",
    "for i in range(N):\n",
    "    for j in range(N):\n",
    "        G[i, j] = 1.0 / (4 * np.pi * np.linalg.norm(targets[:, i] - sources[:, j]))\n",
    "\n",
    "s = svdvals(G)\n",
    "\n",
    "plt.semilogy(s / s[0])\n",
    "plt.xlabel('rank k', fontsize=18)\n",
    "plt.ylabel('$\\sigma_k$', fontsize=18)"
   ]
  },
  {
   "cell_type": "markdown",
   "metadata": {},
   "source": [
    "We see that a rank of around $10$ is enough to approximate the original matrix $M$ with an accuracy of $10^{-5}$."
   ]
  },
  {
   "cell_type": "markdown",
   "metadata": {},
   "source": [
    "## Separable expansions\n",
    "\n",
    "A separable expansion is an expression of the form\n",
    "\n",
    "$$\n",
    "g(x, y) = \\sum_{j=1}^k\\phi_j(x)\\psi_j(y) + R_k(x, y)\n",
    "$$\n",
    "\n",
    "for $x\\in X$ and $y\\in Y$.\n",
    "\n",
    "Here, the $\\phi_j$ and $\\psi_j$ are suitable chosen functions and $R_k$ is a remainder term.\n",
    "\n",
    "A separable expansion is the continuous equivalent to a low-rank approximation. Let $G$ be the matrix of Green's function interactions.\n",
    "Define \n",
    "\n",
    "$$\n",
    "C_{ij} = \\phi_j(x_i),\\quad Z_{ij} = \\overline{\\psi_j(y_i)}.\n",
    "$$\n",
    "\n",
    "Then\n",
    "\n",
    "$$\n",
    "G = CZ^H + R_k(x_i, y_j).\n",
    "$$"
   ]
  },
  {
   "cell_type": "markdown",
   "metadata": {},
   "source": [
    "### Taylor series are separable expansions"
   ]
  },
  {
   "cell_type": "markdown",
   "metadata": {},
   "source": [
    "Fix $x_0\\in X$. Then the degree $m$ Taylor expansion is given as\n",
    "\n",
    "$$\n",
    "g(x, y) = \\sum_{\\alpha \\in N^d, |\\alpha|\\leq m} (x- x_0)^{\\alpha}\\frac{1}{\\alpha !}\\partial_x^{\\alpha}g(x_0, y) + R_k(x, y).\n",
    "$$\n",
    "\n",
    "The index $k$ is the number of terms in the Taylor expansion and given as $k=\\left(\\begin{array}{c}m+d\\\\ d\\end{array}\\right)$.\n",
    "\n",
    "The parameter $k$ is the space dimension. In our case $d=3$.\n",
    "\n",
    "An alternative to Taylor series is separable expansion by interpolation, or in the case of Laplace/Helmholtz type kernels spherical harmonics\n",
    "type expansions.\n",
    "\n",
    "No matter what type of expansion we choose, we need to ensure that the remainder term $R_k$ decays for increasing $k$."
   ]
  },
  {
   "cell_type": "markdown",
   "metadata": {},
   "source": [
    "## Admissibility conditions\n",
    "\n",
    "To ensure rapid decay of the error term the sets $X$ and $Y$ need to be sufficiently far apart from each other.\n",
    "\n",
    "If we can expand in $x$ or $y$ then the admissibility condition is that\n",
    "\n",
    "$$\n",
    "\\min \\{\\text{diam}(X), \\text{diam}(Y)\\} \\leq \\eta\\, \\text{dist}(X, Y)\n",
    "$$\n",
    "\n",
    "for some sufficiently small $\\eta> 0$.\n",
    "\n",
    "This leads to an exponential error bound for the remainder term $R_k$ in the Taylor expansion of the form\n",
    "\n",
    "$$\n",
    "\\| R_k\\|_{\\infty, X\\times Y} = c_1(c_2\\eta)^{m}\n",
    "$$\n",
    "\n",
    "for constants $c_1$ and $c_2$. Hence, for $\\eta < c_2^{-1}$ the error will decay rapidly.\n",
    "\n",
    "In practice, the choice of $\\eta$ is usually less crucial if we choose algebraic low-rank approximations and not\n",
    "analytic series expansions."
   ]
  },
  {
   "cell_type": "markdown",
   "metadata": {},
   "source": [
    "## Algebraic low-rank approximations"
   ]
  },
  {
   "cell_type": "markdown",
   "metadata": {},
   "source": [
    "We have already seen that the SVD provides a low-rank approximation. However, while optimal the SVD is expensive to compute. In the following we discuss\n",
    "a number of other low-rank approximation techniques that in practice provide nearly optimal results and are cheaper than the SVD."
   ]
  },
  {
   "cell_type": "markdown",
   "metadata": {},
   "source": [
    "### Pivoted QR decomposition"
   ]
  },
  {
   "cell_type": "markdown",
   "metadata": {},
   "source": [
    "Let $A\\in\\mathbb{C}^{m\\times n}$ and $r=\\min\\{m, n\\}$. Then the pivoted QR decomposition of $A$ has the form\n",
    "\n",
    "$$\n",
    "AP = QR\n",
    "$$\n",
    "\n",
    "$P$ is a permutation matrix (exactly one element in each row/column is $1$, all others are zero.). $Q\\in\\mathbb{C}^{m\\times r}$ has orthogonal columns, and $R\\in\\mathbb{C}^{r\\times n}$ is upper triangular\n",
    "with diagonal elements $r_ii$ sorted in decreasing order, that is $|r_{ii}|\\geq |r_{i+1, i+1}|$.\n",
    "\n",
    "The pivoted QR decomposition naturally gives rise to a low rank approximation. Choose $k<r$. Let $Q_k = Q[:, 1\\dots k]$ and $R_k = R[1\\dots k, :]$. We then have\n",
    "\n",
    "$$\n",
    "A\\approx CZ^H\n",
    "$$\n",
    "\n",
    "with $C = Q_k$ and $Z = R_k^HP^H$."
   ]
  },
  {
   "cell_type": "markdown",
   "metadata": {},
   "source": []
  },
  {
   "cell_type": "markdown",
   "metadata": {},
   "source": [
    "### The interpolative decomposition\n",
    "\n",
    "The original matrix $G$ encodes physical information, e.g. the Green's function interactions between source and target points. With the previous low-rank representations the matrices $C$ and $Z$ have no direct physical meaning. A solution is the interpolative decomposition. We partition the pivoted QR decomposition\n",
    "as follows.\n",
    "\n",
    "$$\n",
    "\\begin{aligned}\n",
    "AP &= \\begin{bmatrix}Q_k & \\tilde{Q}\\end{bmatrix}\\begin{bmatrix}R_k[:, 1\\dots k] & \\tilde{R}\\\\ 0 & \\hat{R}\\end{bmatrix}\\\\\n",
    "  &= Q_kR_k[:, 1\\dots k]\\begin{bmatrix}I & R_k[:, 1\\dots k]^{-1}\\tilde{R}\\end{bmatrix} + \\tilde{Q}\\begin{bmatrix}0 & \\hat{R}\\end{bmatrix}\n",
    "\\end{aligned}\n",
    "$$\n",
    "\n",
    "The second term is discarded in the low-rank approximation. Also note that the product $Q_kR_k[:, 1\\dots k]$ is identical to the first $k$ columns of $AP$. We hence obtain\n",
    "\n",
    "$$\n",
    "A = CZ^H\n",
    "$$\n",
    "\n",
    "with $C$ consisting of the first $k$ columns of $AP$ and $Z^H = \\begin{bmatrix}I & R_k[:, 1\\dots k]^{-1}\\tilde{R}\\end{bmatrix}P^H$.\n",
    "\n",
    "The advantage of this decomposition is that the matrix $C$ now has physical meaning. With a little bit more linear algebra work we can derive a both sided interpolative decomposition of the form\n",
    "\n",
    "$$\n",
    "A = CA[J, J]Z^H,\n",
    "$$\n",
    "\n",
    "where $C\\in\\mathbb{C}^{m\\times k}$, $Z\\in\\mathbb{C}^{n\\times k}$ and $A[J, j]$ is a $k\\times k$ submatrix of\n",
    "$A$ obtained from an index set $J$."
   ]
  },
  {
   "cell_type": "markdown",
   "metadata": {},
   "source": []
  },
  {
   "cell_type": "markdown",
   "metadata": {},
   "source": [
    "### Randomized computation of the QR Decomposition"
   ]
  },
  {
   "cell_type": "markdown",
   "metadata": {},
   "source": [
    "Computing an exact QR decomposition can be expensive for larger matrices. Randomized methods often give excellent approximations with a fraction of the cost of an exact QR decomposition.\n",
    "\n",
    "The core of the idea is based on randomized range detection. Let $\\Omega\\subset\\mathbb{C}^{n\\times k'}$ whose entries are independently distributed Gaussian random numbers. Furthermore, $k' = k +p$, where $k$ is the desired rank and $p$ a small oversampling parameter.\n",
    "\n",
    "We first compute $Y = A\\Omega$ and then the QR decomposition $Y = QR$. This is cheap with a cost of $\\mathcal{O}(m\\times k')$.\n",
    "\n",
    "An approximation to $A$ is now obtained by $A\\approx QQ^HA$. To compute a pivoted QR decomposition of $A$ we compute the pivoted QR decomposition $Q^HAP = \\hat{Q}R$ of $Q^HA$. Again, this is a cheap operation. The approximate pivoted QR decomposition of the original matrix $A$ is now obtained as\n",
    "\n",
    "$$\n",
    "AP \\approx Q\\hat{Q}R\n",
    "$$\n",
    "\n",
    "By discarding the $p$ last columns of $\\hat{Q}$ and the corresponding $p$ last rows of $R$ this reduces to an approximate QR decomposition of rank $k$.\n",
    "\n",
    "If the singular values of the matrix $A$ are rapidly decaying this is an excellent method to compute an approximate low-rank decomposition with very low computational cost.\n"
   ]
  },
  {
   "cell_type": "markdown",
   "metadata": {},
   "source": [
    "### Adaptive Cross Approximation (ACA)"
   ]
  },
  {
   "cell_type": "markdown",
   "metadata": {},
   "source": [
    "To compute a low-rank approximation with the previously discussed methods we need to at least be able to compute an approximate range of $A$ by multiplication with a random matrix $\\Omega$. If $A$ represents Green's function interactions we can compute the matrix entries on the fly as we pass through the product. This reduces the memory cost. But we still have computational cost of $\\mathcal{O}(m\\times n)$.\n",
    "\n",
    "Adaptive cross approximation is an algorithm that only needs to touch a subset of the rows and columns of $A$ and hence can give a low-rank approximation with much lower computational cost.\n",
    "\n",
    "The idea is straight forward. Given the matrix $A\\in\\mathbb{C}^{\\times n}$. Define $R_0:=A$. Choose a row $i_1$ and select $j_1$ such that $R_0[i_1, j_1]$ is the by magnitude largest element in row $i_1$. \n",
    "\n",
    "We now compute \n",
    "\n",
    "$$\n",
    "R_1 := R_0 - \\frac{1}{R_0[i_1, j_1]}R_0[:, j_1]R_0[i_1, :].\n",
    "$$\n",
    "\n",
    "By repeating this procedure with $R_1$ instead of $R_0$, and so on, we build up a low rank approximation \n",
    "\n",
    "$$\n",
    "S_k = \\sum_{\\ell=1}^k \\frac{1}{R_{\\ell-1}[i_\\ell, j_\\ell]}R_{\\ell-1}[:, j_\\ell]R_{\\ell-1}[i_\\ell, :]\n",
    "$$\n",
    "\n",
    "such that $A = S_k + R_k$.\n",
    "\n",
    "We are not discussing adaptive stopping criteria and the right choice of the row indices $i_k$ here. ACA is highly effective for kernel matrices arising from smooth kernels. However, it can fail if the underlying kernel function is not smooth (e.g. a double-layer kernel on over the boundary of a cube).\n"
   ]
  }
 ],
 "metadata": {
  "interpreter": {
   "hash": "d64ff126ff2a1f15b1ec3c82088b080b48e17d0490fbefdb29a9fbcdbca3ee7d"
  },
  "kernelspec": {
   "display_name": "Python 3.9.12 ('dev')",
   "language": "python",
   "name": "python3"
  },
  "language_info": {
   "codemirror_mode": {
    "name": "ipython",
    "version": 3
   },
   "file_extension": ".py",
   "mimetype": "text/x-python",
   "name": "python",
   "nbconvert_exporter": "python",
   "pygments_lexer": "ipython3",
   "version": "3.9.12"
  },
  "orig_nbformat": 4
 },
 "nbformat": 4,
 "nbformat_minor": 2
}
